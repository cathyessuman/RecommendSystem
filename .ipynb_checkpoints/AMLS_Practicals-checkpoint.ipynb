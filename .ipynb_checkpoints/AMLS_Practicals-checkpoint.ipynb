{
 "cells": [
  {
   "cell_type": "markdown",
   "metadata": {
    "id": "CQ704X9qssGG"
   },
   "source": [
    "IMPORTING LIBRARIES"
   ]
  },
  {
   "cell_type": "code",
   "execution_count": 1,
   "metadata": {
    "id": "OZQ7A2GdVqjs"
   },
   "outputs": [],
   "source": [
    "import pandas as pd\n",
    "import zipfile\n",
    "import os\n",
    "import matplotlib.pyplot as plt\n",
    "import seaborn as sns\n",
    "import numpy as np\n",
    "import pickle\n",
    "# from wordcloud import WordCloud"
   ]
  },
  {
   "cell_type": "markdown",
   "metadata": {
    "id": "mlOMTGlDsvwJ"
   },
   "source": [
    "**Importing Datasets**"
   ]
  },
  {
   "cell_type": "code",
   "execution_count": 2,
   "metadata": {
    "id": "iqZ_sZqAd5HQ"
   },
   "outputs": [],
   "source": [
    "dir = \"/home/catherine/Downloads/AMLS\"\n",
    "d1 = os.path.join(dir, \"ml-25m\", \"ratings.csv\")\n",
    "d2 = os.path.join(dir, \"ml-25m\", \"movies.csv\")\n",
    "d3 =  os.path.join(dir, \"ml-25m\", \"tags.csv\")\n",
    "ratingsdf = pd.read_csv(d1)\n",
    "moviesdf = pd.read_csv(d2)\n",
    "tagsdf = pd.read_csv(d3)"
   ]
  },
  {
   "cell_type": "markdown",
   "metadata": {
    "id": "x6ef-h9dtdca"
   },
   "source": [
    "**Exploratory Data Analysis (EDA)**"
   ]
  },
  {
   "cell_type": "code",
   "execution_count": 3,
   "metadata": {},
   "outputs": [],
   "source": [
    "import pandas as pd \n",
    "import matplotlib.pyplot as plt \n",
    "# Calculate statistics \n",
    "rating_count = ratingsdf.shape[0] \n",
    "user_count = ratingsdf['userId'].nunique() \n",
    "movie_count = ratingsdf['movieId'].nunique() \n",
    "user_rating = ratingsdf.groupby('userId')['rating'].count() \n",
    "movie_rating = ratingsdf.groupby('movieId')['rating'].count() \n",
    "# Create DataFrame \n",
    "data = { 'Statistic': ['Number of Ratings', 'Number of Unique Users', 'Number of Unique Movies', 'Max Movies Rated by a User', 'Min Movies Rated by a User', 'Average Movies Rated by a User', 'Max Times Users Rated a Movie', 'Min Times Users Rated a Movie', 'Average Times Users Rated a Movie'], 'Value': [rating_count, user_count, movie_count, user_rating.max(), user_rating.min(), user_rating.mean(), movie_rating.max(), movie_rating.min(), movie_rating.mean()] } \n",
    "df = pd.DataFrame(data) \n",
    "# Save as PDF \n",
    "plt.figure(figsize=(10, 6)) \n",
    "plt.table(cellText=df.values, colLabels=df.columns, cellLoc='center', loc='center') \n",
    "plt.axis('off') \n",
    "plt.savefig('ratings_statistics.pdf') \n",
    "plt.close() "
   ]
  },
  {
   "cell_type": "markdown",
   "metadata": {},
   "source": [
    "**Summary Statistics**"
   ]
  },
  {
   "cell_type": "code",
   "execution_count": 4,
   "metadata": {
    "colab": {
     "base_uri": "https://localhost:8080/"
    },
    "id": "nFfMYi1htd_B",
    "outputId": "35643c3f-2756-4f79-e98f-23372c03ad0b"
   },
   "outputs": [
    {
     "name": "stdout",
     "output_type": "stream",
     "text": [
      "Number of Ratings: 25000095\n",
      "Number of unique users: 162541\n",
      "Number of unique movies: 59047\n",
      "Maximum movies rated by a user: 32202\n",
      "Minimum movies rated by a user: 20\n",
      "Average movies rated by a user: 153.81\n",
      "Maximum times users rated a movie: 81491\n",
      "Minimum times users rated a movie: 1\n",
      "Average times users rated a movie: 423.39\n"
     ]
    }
   ],
   "source": [
    "rating_count = ratingsdf.shape[0]\n",
    "print(f'Number of Ratings: {rating_count}')\n",
    "user_count = ratingsdf['userId'].nunique()\n",
    "print(f'Number of unique users: {user_count}')\n",
    "movie_count = ratingsdf['movieId'].nunique()\n",
    "print(f'Number of unique movies: {movie_count}')\n",
    "\n",
    "userating = ratingsdf.groupby('userId')['rating'].count()\n",
    "print(f'Maximum movies rated by a user: {userating.max()}')\n",
    "print(f'Minimum movies rated by a user: {userating.min()}')\n",
    "print(f'Average movies rated by a user: {userating.mean():.2f}')\n",
    "\n",
    "movierating = ratingsdf.groupby('movieId')['rating'].count()\n",
    "print(f'Maximum times users rated a movie: {movierating.max()}')\n",
    "print(f'Minimum times users rated a movie: {movierating.min()}')\n",
    "print(f'Average times users rated a movie: {movierating.mean():.2f}')\n"
   ]
  },
  {
   "cell_type": "markdown",
   "metadata": {},
   "source": [
    "**Highest Rated Movie**"
   ]
  },
  {
   "cell_type": "code",
   "execution_count": 60,
   "metadata": {},
   "outputs": [
    {
     "name": "stdout",
     "output_type": "stream",
     "text": [
      "                                       title      mean  count\n",
      "0                        Forrest Gump (1994)  4.048011  81491\n",
      "1           Shawshank Redemption, The (1994)  4.413576  81482\n",
      "2                        Pulp Fiction (1994)  4.188912  79672\n",
      "3           Silence of the Lambs, The (1991)  4.151342  74127\n",
      "4                         Matrix, The (1999)  4.154099  72674\n",
      "5  Star Wars: Episode IV - A New Hope (1977)  4.120189  68717\n",
      "6                       Jurassic Park (1993)  3.679175  64144\n",
      "7                    Schindler's List (1993)  4.247579  60411\n",
      "8                          Braveheart (1995)  4.002273  59184\n",
      "9                          Fight Club (1999)  4.228311  58773\n"
     ]
    }
   ],
   "source": [
    "movie_group = ratingsdf.drop(columns=['userId', 'timestamp']).groupby('movieId')\n",
    "movie_ratings = movie_group.agg(['count', 'mean'])\n",
    "movie_ratings.columns = movie_ratings.columns.get_level_values(1)\n",
    "\n",
    "moviefilt = movie_ratings[movie_ratings['count'] > 2000]\n",
    "\n",
    "top10 = moviefilt.sort_values(by='count', ascending=False).head(10)\n",
    "\n",
    "top10_with_titles = top10.merge(moviesdf, on='movieId', how='left')\n",
    "\n",
    "print(top10_with_titles[['title', 'mean', 'count']])\n"
   ]
  },
  {
   "cell_type": "markdown",
   "metadata": {},
   "source": [
    "**Unique Genres**"
   ]
  },
  {
   "cell_type": "code",
   "execution_count": 3,
   "metadata": {},
   "outputs": [],
   "source": [
    "unique_genres = pd.DataFrame(moviesdf['genres'].str.split('|').tolist()).stack().unique()"
   ]
  },
  {
   "cell_type": "code",
   "execution_count": 4,
   "metadata": {},
   "outputs": [],
   "source": [
    "unique_genres = np.delete(unique_genres, -1)"
   ]
  },
  {
   "cell_type": "code",
   "execution_count": 5,
   "metadata": {},
   "outputs": [
    {
     "data": {
      "text/plain": [
       "array(['Adventure', 'Animation', 'Children', 'Comedy', 'Fantasy',\n",
       "       'Romance', 'Drama', 'Action', 'Crime', 'Thriller', 'Horror',\n",
       "       'Mystery', 'Sci-Fi', 'IMAX', 'Documentary', 'War', 'Musical',\n",
       "       'Western', 'Film-Noir'], dtype=object)"
      ]
     },
     "execution_count": 5,
     "metadata": {},
     "output_type": "execute_result"
    }
   ],
   "source": [
    "unique_genres"
   ]
  },
  {
   "cell_type": "markdown",
   "metadata": {},
   "source": [
    "**One-Hot Enconding and Creating Feature Vectors Column**"
   ]
  },
  {
   "cell_type": "code",
   "execution_count": 6,
   "metadata": {},
   "outputs": [],
   "source": [
    "feature_vectors = []\n",
    "\n",
    "for index, row in moviesdf.iterrows():\n",
    "  gen_list = row['genres'].split('|')\n",
    "  feature_vector = np.zeros(len(unique_genres), dtype = int)\n",
    "  \n",
    "  for genre in gen_list:\n",
    "    if genre in unique_genres:\n",
    "      feature_vector[np.where(unique_genres == genre)] = 1\n",
    "\n",
    "  feature_vectors.append(feature_vector)  "
   ]
  },
  {
   "cell_type": "code",
   "execution_count": 7,
   "metadata": {},
   "outputs": [],
   "source": [
    "moviesdf['feature_vectors'] = feature_vectors"
   ]
  },
  {
   "cell_type": "code",
   "execution_count": null,
   "metadata": {},
   "outputs": [],
   "source": []
  },
  {
   "cell_type": "code",
   "execution_count": 9,
   "metadata": {},
   "outputs": [],
   "source": [
    "genre_movie_ids = {}\n",
    "\n",
    "for genre_index, genre in enumerate(unique_genres):\n",
    "\n",
    "  genre_movie_ids[genre] = []\n",
    "\n",
    "  for index, row in moviesdf.iterrows():\n",
    "    if row['feature_vectors'][genre_index] == 1:\n",
    "      genre_movie_ids[genre].append(row['movieId'])"
   ]
  },
  {
   "cell_type": "markdown",
   "metadata": {},
   "source": [
    "**Word Cloud**"
   ]
  },
  {
   "cell_type": "code",
   "execution_count": 19,
   "metadata": {},
   "outputs": [],
   "source": [
    "dftag = tagsdf[pd.notnull(tagsdf['tag'])]"
   ]
  },
  {
   "cell_type": "code",
   "execution_count": 21,
   "metadata": {},
   "outputs": [],
   "source": [
    "tagss = dftag['tag'].apply(lambda x: x.lower())"
   ]
  },
  {
   "cell_type": "code",
   "execution_count": 22,
   "metadata": {},
   "outputs": [],
   "source": [
    "tagss2freq = tagss.groupby(tagss).count()"
   ]
  },
  {
   "cell_type": "code",
   "execution_count": 23,
   "metadata": {},
   "outputs": [],
   "source": [
    "for genre in unique_genres:\n",
    "  genre = genre.lower()\n",
    "  if genre in tagss2freq:\n",
    "    tagss2freq.pop(genre)"
   ]
  },
  {
   "cell_type": "code",
   "execution_count": 23,
   "metadata": {},
   "outputs": [],
   "source": [
    "WC = WordCloud(width=800, height=600).generate_from_frequencies(tagss2freq)"
   ]
  },
  {
   "cell_type": "code",
   "execution_count": null,
   "metadata": {},
   "outputs": [],
   "source": [
    "plt.imshow(WC, interpolation='bilinear')\n",
    "plt.axis(\"off\")\n",
    "plt.savefig('WordCloud.pdf', format='pdf', bbox_inches='tight')\n",
    "plt.show()"
   ]
  },
  {
   "cell_type": "markdown",
   "metadata": {},
   "source": [
    "**Data Structures**"
   ]
  },
  {
   "cell_type": "code",
   "execution_count": 18,
   "metadata": {
    "id": "PN0RfQvoPsKl"
   },
   "outputs": [],
   "source": [
    "ratings = ratingsdf['rating'].tolist()\n",
    "userid = ratingsdf['userId'].tolist()\n",
    "movieid = ratingsdf['movieId'].tolist()"
   ]
  },
  {
   "cell_type": "code",
   "execution_count": 20,
   "metadata": {
    "id": "X2PpKnGbN-wT"
   },
   "outputs": [],
   "source": [
    "users = sorted(set(userid))\n",
    "movies = sorted(set(movieid))"
   ]
  },
  {
   "cell_type": "code",
   "execution_count": 21,
   "metadata": {
    "id": "79I0ta6wVBS4"
   },
   "outputs": [],
   "source": [
    "idx_to_movies = [movies[i] for i in range(len(movies))]\n",
    "idx_to_user = [users[i] for i in range(len(users))]"
   ]
  },
  {
   "cell_type": "code",
   "execution_count": 22,
   "metadata": {
    "id": "nXA40zHGIY1I"
   },
   "outputs": [],
   "source": [
    "user_to_idx = {user_id: index for index, user_id in enumerate(users)}\n",
    "movie_to_idx = {movie_id: index for index, movie_id in enumerate(movies)}"
   ]
  },
  {
   "cell_type": "markdown",
   "metadata": {
    "id": "mSZwhy7Xs5q0"
   },
   "source": [
    "**Indexing Dataset by User (given movie and rating)**"
   ]
  },
  {
   "cell_type": "code",
   "execution_count": 23,
   "metadata": {
    "id": "rtzuoHMiPr8-"
   },
   "outputs": [],
   "source": [
    "user_data = [[] for _ in range(len(users))]\n",
    "\n",
    "for (user_id, movie_id, rating) in zip(userid, movieid, ratings):\n",
    "    useridx = user_to_idx[user_id]\n",
    "    user_data[useridx].append((movie_to_idx[movie_id], rating))"
   ]
  },
  {
   "cell_type": "markdown",
   "metadata": {
    "id": "wNZGkqoUs_RE"
   },
   "source": [
    "**Indexing Dataset by Movie (given user and rating)**"
   ]
  },
  {
   "cell_type": "code",
   "execution_count": 24,
   "metadata": {
    "id": "rEJcbpqgdNV_"
   },
   "outputs": [],
   "source": [
    "movie_data = [[] for _ in range(len(movies))]\n",
    "\n",
    "for (user_id, movie_id, rating) in zip(userid, movieid, ratings):\n",
    "    movieidx = movie_to_idx[movie_id]\n",
    "    movie_data[movieidx].append((user_to_idx[user_id], rating))"
   ]
  },
  {
   "cell_type": "markdown",
   "metadata": {
    "id": "QHivQJFXsvxh"
   },
   "source": [
    "**Rating Distribution by User**"
   ]
  },
  {
   "cell_type": "code",
   "execution_count": 25,
   "metadata": {
    "colab": {
     "base_uri": "https://localhost:8080/",
     "height": 472
    },
    "id": "4LAUoptUO-Op",
    "outputId": "fdee26af-7ab7-438b-db36-59fddbaa0c31"
   },
   "outputs": [
    {
     "data": {
      "image/png": "[encoded data removed]",
      "text/plain": [
       "<Figure size 640x480 with 1 Axes>"
      ]
     },
     "metadata": {},
     "output_type": "display_data"
    }
   ],
   "source": [
    "# user_group = ratingsdf.groupby('rating')['userId'].agg(['count'])\n",
    "user_group = ratingsdf['rating'].value_counts()\n",
    "plt.bar(user_group.index, height=user_group, width=0.5, align='center')\n",
    "plt.xlabel(' User Rating')\n",
    "plt.ylabel('Count')\n",
    "plt.xticks(user_group.index)\n",
    "# plt.title('User Rating Distribution')\n",
    "plt.savefig(\"User Rating Distribution.pdf\", format=\"pdf\", bbox_inches=\"tight\")\n",
    "plt.show()"
   ]
  },
  {
   "cell_type": "markdown",
   "metadata": {
    "id": "-mg0p9uRcG8n"
   },
   "source": [
    "**POWER LAWS**"
   ]
  },
  {
   "cell_type": "markdown",
   "metadata": {
    "id": "KQ2cR2M5rsyw"
   },
   "source": [
    "**Movie and User by Rating**"
   ]
  },
  {
   "cell_type": "code",
   "execution_count": 36,
   "metadata": {
    "id": "e5MEehaaa5MC"
   },
   "outputs": [],
   "source": [
    "user, counts = np.unique(ratingsdf.userId.values, return_counts=True)\n",
    "user_ratings, user_rate = np.unique(counts, return_counts=True)"
   ]
  },
  {
   "cell_type": "code",
   "execution_count": 37,
   "metadata": {
    "id": "vhT-pDxnyvfa"
   },
   "outputs": [],
   "source": [
    "movie, countss = np.unique(ratingsdf.movieId.values, return_counts=True)\n",
    "movie_ratings, movie_rate = np.unique(countss, return_counts=True)"
   ]
  },
  {
   "cell_type": "code",
   "execution_count": 47,
   "metadata": {
    "colab": {
     "base_uri": "https://localhost:8080/",
     "height": 493
    },
    "id": "62SeoqdOrnJh",
    "outputId": "f0dbe8a8-2fcb-4d47-9fa3-fa73dbe870b1"
   },
   "outputs": [
    {
     "data": {
      "image/png": "[encoded data removed]",
      "text/plain": [
       "<Figure size 640x480 with 1 Axes>"
      ]
     },
     "metadata": {},
     "output_type": "display_data"
    }
   ],
   "source": [
    "plt.scatter(movie_ratings, movie_rate, c='green', label='Movies')\n",
    "plt.scatter(user_ratings, user_rate, c='blue', label='Users')\n",
    "plt.xscale('log')\n",
    "plt.yscale('log')\n",
    "# plt.title('Popularity of Movie given Ratings')\n",
    "plt.xlabel('Degree')\n",
    "plt.ylabel('Frequency of Rating')\n",
    "plt.legend()\n",
    "plt.savefig(\"Popularity of Movie given Ratings.pdf\", format=\"pdf\", bbox_inches=\"tight\")\n",
    "plt.show()"
   ]
  },
  {
   "cell_type": "markdown",
   "metadata": {},
   "source": [
    "**100K Dataset Exploration and Data Structures**"
   ]
  },
  {
   "cell_type": "code",
   "execution_count": 26,
   "metadata": {
    "id": "2QDnGAznN4ZV"
   },
   "outputs": [],
   "source": [
    "dir = \"/home/catherine/Downloads/AMLS\"\n",
    "s1 = os.path.join(dir, \"ml-latest-small\", \"ratings.csv\")\n",
    "s2 = os.path.join(dir, \"ml-latest-small\", \"movies.csv\")\n",
    "s3 =  os.path.join(dir, \"ml-latest-small\", \"tags.csv\")\n",
    "ratings100 = pd.read_csv(s1)\n",
    "movies100 = pd.read_csv(s2)\n",
    "tags100 = pd.read_csv(s3)"
   ]
  },
  {
   "cell_type": "code",
   "execution_count": 27,
   "metadata": {},
   "outputs": [
    {
     "name": "stdout",
     "output_type": "stream",
     "text": [
      "Number of Ratings: 100836\n",
      "Number of unique users: 610\n",
      "Number of unique movies: 9724\n",
      "Maximum movies rated by a user: 2698\n",
      "Minimum movies rated by a user: 20\n",
      "Average movies rated by a user: 165.30\n",
      "Maximum times users rated a movie: 329\n",
      "Minimum times users rated a movie: 1\n",
      "Average times users rated a movie: 10.37\n"
     ]
    }
   ],
   "source": [
    "rating_count100 = ratings100.shape[0]\n",
    "print(f'Number of Ratings: {rating_count100}')\n",
    "user_count100 = ratings100['userId'].nunique()\n",
    "print(f'Number of unique users: {user_count100}')\n",
    "movie_count100 = ratings100['movieId'].nunique()\n",
    "print(f'Number of unique movies: {movie_count100}')\n",
    "\n",
    "userating100 = ratings100.groupby('userId')['rating'].count()\n",
    "print(f'Maximum movies rated by a user: {userating100.max()}')\n",
    "print(f'Minimum movies rated by a user: {userating100.min()}')\n",
    "print(f'Average movies rated by a user: {userating100.mean():.2f}')\n",
    "\n",
    "movierating100 = ratings100.groupby('movieId')['rating'].count()\n",
    "print(f'Maximum times users rated a movie: {movierating100.max()}')\n",
    "print(f'Minimum times users rated a movie: {movierating100.min()}')\n",
    "print(f'Average times users rated a movie: {movierating100.mean():.2f}')"
   ]
  },
  {
   "cell_type": "code",
   "execution_count": 29,
   "metadata": {
    "id": "i6j7AGa7N4VA"
   },
   "outputs": [],
   "source": [
    "ratingss = ratings100['rating'].tolist()\n",
    "userid100 = ratings100['userId'].tolist()\n",
    "movieid100 = ratings100['movieId'].tolist()"
   ]
  },
  {
   "cell_type": "code",
   "execution_count": 30,
   "metadata": {
    "id": "zmMAcePtrJRI"
   },
   "outputs": [],
   "source": [
    "users100 = sorted(set(userid100))\n",
    "movies100 = sorted(set(movieid100))"
   ]
  },
  {
   "cell_type": "code",
   "execution_count": 31,
   "metadata": {
    "id": "XOmgHzgVxtSP"
   },
   "outputs": [],
   "source": [
    "idx_to_movies100 = [movies100[i] for i in range(len(movies100))]\n",
    "idx_to_user100 = [users100[i] for i in range(len(users100))]"
   ]
  },
  {
   "cell_type": "code",
   "execution_count": 32,
   "metadata": {
    "id": "GFg_NCEA32al"
   },
   "outputs": [],
   "source": [
    "user_to_idx100 = {user_id100: index for index, user_id100 in enumerate(users100)}\n",
    "\n",
    "movie_to_idx100 = {movie_id100: index for index, movie_id100 in enumerate(movies100)}"
   ]
  },
  {
   "cell_type": "markdown",
   "metadata": {
    "id": "mkum9L9cUfA3"
   },
   "source": [
    "**Index by User (given movie and rating)  and by Movie (given user and rating) 100k**"
   ]
  },
  {
   "cell_type": "code",
   "execution_count": 33,
   "metadata": {
    "id": "Yvh178i7N4Sb"
   },
   "outputs": [],
   "source": [
    "user_data100 = [[] for _ in range(len(users100))]\n",
    "\n",
    "for (user_id100, movie_id100, rating) in zip(userid100, movieid100, ratingss):\n",
    "    useridx100 = user_to_idx100[user_id100]\n",
    "    movieidx100 = movie_to_idx100[movie_id100]\n",
    "    user_data100[useridx100].append((movie_to_idx100[movie_id100], rating))\n",
    "    movie_data100[movieidx100].append((user_to_idx100[user_id100], rating))"
   ]
  },
  {
   "cell_type": "markdown",
   "metadata": {
    "id": "YVk1DuqLMLzN"
   },
   "source": [
    "**User + Item Biases with Alternating Least Squares**"
   ]
  },
  {
   "cell_type": "code",
   "execution_count": 35,
   "metadata": {
    "id": "iClJd2z4Gsbl"
   },
   "outputs": [],
   "source": [
    "lam = 0.05\n",
    "gamm = 0.0001\n",
    "epochs = 100\n",
    "\n",
    "M = len(user_data100)\n",
    "N = len(movie_data100)\n",
    "\n",
    "user_biases = np.zeros((M))\n",
    "item_biases = np.zeros((N))\n",
    "losses = []\n",
    "rmse = []\n",
    "\n",
    "for i in range(epochs):\n",
    "\n",
    "  for m in range(M):\n",
    "    bias = 0\n",
    "    item_counter =0\n",
    "    for (n, r) in user_data100[m]:\n",
    "      bias += lam * (r - item_biases[n])\n",
    "      item_counter += 1\n",
    "    bias = bias / (lam * item_counter + gamm)\n",
    "    user_biases[m] = bias\n",
    "\n",
    "  for n in range(N):\n",
    "    bias = 0\n",
    "    user_counter = 0\n",
    "    for (m, r) in movie_data100[n]:\n",
    "      bias += lam * (r - user_biases[m])\n",
    "      user_counter += 1\n",
    "    bias = bias / (lam * user_counter + gamm)\n",
    "    item_biases[n] = bias\n",
    "\n",
    "  loss = 0\n",
    "  for m in range(M):\n",
    "    for (n, r) in user_data100[m]:\n",
    "      loss += (r - (user_biases[m] + item_biases[n]))** 2\n",
    "  loss = (-(lam/2) * loss) - ((gamm/2 * np.sum(user_biases**2)) + (gamm/2 * np.sum(item_biases**2)))\n",
    "  losses.append(loss)\n",
    "\n",
    "  setrmse = 0\n",
    "  for m in range(M):\n",
    "    for (n, r) in user_data100[m]:\n",
    "      setrmse += (1/len(ratings100)) * ((user_biases[m] + item_biases[n]) - r)**2\n",
    "  setrmse = np.sqrt(setrmse)\n",
    "  rmse.append(setrmse)"
   ]
  },
  {
   "cell_type": "code",
   "execution_count": 36,
   "metadata": {
    "colab": {
     "base_uri": "https://localhost:8080/",
     "height": 447
    },
    "id": "ih2o_PdID6vQ",
    "outputId": "0591d0d4-ee33-49d8-f58a-5446f4de8a32"
   },
   "outputs": [
    {
     "data": {
      "image/png": "[encoded data removed]",
      "text/plain": [
       "<Figure size 640x480 with 1 Axes>"
      ]
     },
     "metadata": {},
     "output_type": "display_data"
    }
   ],
   "source": [
    "plt.plot(losses)\n",
    "plt.xlabel('Iterations')\n",
    "plt.ylabel('Regularized Log Likelihood')\n",
    "plt.savefig(\"Bias Only-Loss 100k.pdf\", format=\"pdf\", bbox_inches=\"tight\")\n",
    "plt.show()"
   ]
  },
  {
   "cell_type": "code",
   "execution_count": 39,
   "metadata": {
    "colab": {
     "base_uri": "https://localhost:8080/",
     "height": 447
    },
    "id": "KJvbQ66gD6sg",
    "outputId": "e99d0f5a-9a90-4ae6-eca0-da91f83829ff"
   },
   "outputs": [
    {
     "data": {
      "image/png": "[encoded data removed]",
      "text/plain": [
       "<Figure size 640x480 with 1 Axes>"
      ]
     },
     "metadata": {},
     "output_type": "display_data"
    }
   ],
   "source": [
    "plt.plot(rmse)\n",
    "plt.xlabel('Iterations')\n",
    "plt.ylabel('RMSE')\n",
    "plt.savefig(\"Bias only-RMSE 100k.pdf\", format=\"pdf\", bbox_inches=\"tight\")\n",
    "plt.show()"
   ]
  },
  {
   "cell_type": "markdown",
   "metadata": {
    "id": "MqpuOKMpMU0b"
   },
   "source": [
    "**User and Item Factors (latent trait vectors or matrices U and V)**"
   ]
  },
  {
   "cell_type": "code",
   "execution_count": 40,
   "metadata": {
    "id": "RC1iweNJH8QO"
   },
   "outputs": [],
   "source": [
    "lam = 0.05\n",
    "gamm = 0.001\n",
    "tau = 0.001\n",
    "epochs = 100\n",
    "\n",
    "K = 10\n",
    "\n",
    "user_biases = np.zeros((M))\n",
    "item_biases = np.zeros((N))\n",
    "user_factor = np.random.normal(loc=0, scale= 1/np.sqrt(K), size= (M,K))\n",
    "itebm_factor = np.random.normal(loc=0, scale= 1/np.sqrt(K), size= (K,N))\n",
    "losses_latent = []\n",
    "rmse_latent = []\n",
    "\n",
    "for i in range(epochs):\n",
    "\n",
    "#updating user bias\n",
    "  for m in range(M):\n",
    "    bias = 0\n",
    "    item_counter =0\n",
    "    for (n, r) in user_data100[m]:\n",
    "      bias += lam * (r - user_factor[m,:].T .dot(item_factor[:,n]) - item_biases[n])\n",
    "      item_counter += 1\n",
    "    bias = bias / (lam * item_counter + gamm)\n",
    "    user_biases[m] = bias\n",
    "\n",
    "#updating user factor\n",
    "    user_factorm = 0\n",
    "    user_factormm = 0\n",
    "    for (n,r) in user_data100[m]:\n",
    "      user_factorm +=  item_factor[:,n]*item_factor[:,n].reshape(-1,1) \n",
    "      user_factormm +=  item_factor[:,n] * (r - user_biases[m] - item_biases[n])\n",
    "    user_factor[m,:] = np.linalg.solve(lam * user_factorm + tau * np.identity(K), lam * user_factormm)\n",
    "\n",
    "#updating item bias\n",
    "  for n in range(N):\n",
    "    bias = 0\n",
    "    user_counter = 0\n",
    "    for (m, r) in movie_data100[n]:\n",
    "      bias += lam * (r - user_factor[m,:].T.dot( item_factor[:,n]) - user_biases[m])\n",
    "      user_counter += 1\n",
    "    bias = bias / (lam * user_counter + gamm)\n",
    "    item_biases[n] = bias\n",
    "\n",
    "#updating item factor\n",
    "    item_factorm = 0\n",
    "    item_factormm = 0\n",
    "    for (m,r) in movie_data100[n]:\n",
    "      item_factorm += user_factor[m,:]*user_factor[m,:].reshape(-1,1) \n",
    "      item_factormm += user_factor[m,:] * (r - user_biases[m] - item_biases[n])\n",
    "    item_factor[:,n] = np.linalg.solve(lam * item_factorm + tau * np.identity(K), lam * item_factormm)\n",
    "\n",
    "#calculating losses\n",
    "  residue = 0\n",
    "  for m in range(M):\n",
    "    for (n, r) in user_data100[m]:\n",
    "      residue += (r - user_factor[m,:].T.dot(item_factor[:,n]) - (user_biases[m] + item_biases[n]))** 2\n",
    "  loss = (-(lam/2) * residue) - ((gamm/2 * np.sum(user_biases**2)) + (gamm/2 * np.sum(item_biases**2)))\n",
    "  loss = loss - 0.5 * tau * (np.einsum('ji,ij->',user_factor.T,user_factor) + np.einsum('ji,ij->',item_factor.T,item_factor))\n",
    "  losses_latent.append(loss)\n",
    "\n",
    "#calculating rmse\n",
    "  setrmse = (1/len(ratings100)) * residue\n",
    "  setrmse = np.sqrt(setrmse)\n",
    "  rmse_latent.append(setrmse)"
   ]
  },
  {
   "cell_type": "code",
   "execution_count": 43,
   "metadata": {
    "colab": {
     "base_uri": "https://localhost:8080/",
     "height": 447
    },
    "id": "ZKdsX2Gy5Uuz",
    "outputId": "c8f5a156-71ed-4565-a7ea-79b75807804b"
   },
   "outputs": [
    {
     "data": {
      "image/png": "[encoded data removed]",
      "text/plain": [
       "<Figure size 640x480 with 1 Axes>"
      ]
     },
     "metadata": {},
     "output_type": "display_data"
    }
   ],
   "source": [
    "plt.plot(losses_latent)\n",
    "plt.xlabel('Iterations')\n",
    "plt.ylabel('Regularized Log Likelihood')\n",
    "plt.savefig(\"Bias & Latent-loss 100k.pdf\", format=\"pdf\", bbox_inches=\"tight\")\n",
    "plt.show()"
   ]
  },
  {
   "cell_type": "code",
   "execution_count": 44,
   "metadata": {
    "colab": {
     "base_uri": "https://localhost:8080/",
     "height": 450
    },
    "id": "mYD4pXQAMJOX",
    "outputId": "93b1be92-b3c3-4deb-cbcf-d66103dfb8ee"
   },
   "outputs": [
    {
     "data": {
      "image/png": "[encoded data removed]",
      "text/plain": [
       "<Figure size 640x480 with 1 Axes>"
      ]
     },
     "metadata": {},
     "output_type": "display_data"
    }
   ],
   "source": [
    "plt.plot(rmse_latent)\n",
    "plt.xlabel('Iterations')\n",
    "plt.ylabel('RMSE')\n",
    "plt.savefig(\"Bias & Latent-RMSE 100k.pdf\", format=\"pdf\", bbox_inches=\"tight\")\n",
    "plt.show()"
   ]
  },
  {
   "cell_type": "markdown",
   "metadata": {
    "id": "MXBZoPDYSaw_"
   },
   "source": [
    "**Split the 25M dataset into a training and a test set**"
   ]
  },
  {
   "cell_type": "code",
   "execution_count": 29,
   "metadata": {},
   "outputs": [],
   "source": [
    "key = np.random.default_rng(42)"
   ]
  },
  {
   "cell_type": "code",
   "execution_count": 12,
   "metadata": {
    "id": "liio8pDgMJK2"
   },
   "outputs": [],
   "source": [
    "users = sorted(set(userid))\n",
    "movies = sorted(set(movieid))\n",
    "\n",
    "idx_to_movies = [movies[i] for i in range(len(movies))]\n",
    "idx_to_user = [users[i] for i in range(len(users))]\n",
    "\n",
    "user_to_idx = {user_id: index for index, user_id in enumerate(users)}\n",
    "movie_to_idx = {movie_id: index for index, movie_id in enumerate(movies)}"
   ]
  },
  {
   "cell_type": "code",
   "execution_count": 31,
   "metadata": {
    "id": "6cJmR-PvMJI_"
   },
   "outputs": [],
   "source": [
    "train_user_data = [[] for _ in range(len(users))]\n",
    "test_user_data = [[] for _ in range(len(users))]\n",
    "\n",
    "train_movie_data = [[] for _ in range(len(movies))]\n",
    "test_movie_data = [[] for _ in range(len(movies))]\n",
    "\n",
    "for (user_id, movie_id, rating) in zip(userid, movieid, ratings):\n",
    "  useridx = user_to_idx[user_id]\n",
    "  movieidx = movie_to_idx[movie_id]\n",
    "  if key.uniform(0,1) < 0.7:\n",
    "    train_user_data[useridx].append((movieidx, rating))\n",
    "    train_movie_data[movieidx].append((useridx, rating))  \n",
    "  else:\n",
    "    test_user_data[useridx].append((movieidx, rating))\n",
    "    test_movie_data[movieidx].append((useridx, rating))  "
   ]
  },
  {
   "cell_type": "code",
   "execution_count": 34,
   "metadata": {},
   "outputs": [],
   "source": [
    "train_user_data = [np.array(q) for q in train_user_data]\n",
    "test_user_data = [np.array(q) for q in test_user_data]\n",
    "train_movie_data = [np.array(q) for q in train_movie_data]\n",
    "test_movie_data = [np.array(q) for q in test_movie_data]"
   ]
  },
  {
   "cell_type": "markdown",
   "metadata": {
    "id": "o3o1mt1Po6Wx"
   },
   "source": [
    "**User and Item Factors (latent trait vectors or matrices U and V) after train-test split**"
   ]
  },
  {
   "cell_type": "code",
   "execution_count": null,
   "metadata": {
    "colab": {
     "background_save": true,
     "base_uri": "https://localhost:8080/"
    },
    "id": "fp10vEfAWffd",
    "outputId": "3bcccbfd-8d04-4008-ad63-119bbfcdd2ad",
    "scrolled": true
   },
   "outputs": [
    {
     "name": "stdout",
     "output_type": "stream",
     "text": [
      "iteration 0 train rmse 0.859594137819997 test rmse 0.878979881218217\n",
      "iteration 1 train rmse 0.8211519523193785 test rmse 0.8441238023660631\n",
      "iteration 2 train rmse 0.805188455419141 test rmse 0.8299188884466103\n",
      "iteration 3 train rmse 0.7994970425985171 test rmse 0.8248837410235943\n",
      "iteration 4 train rmse 0.797126016029795 test rmse 0.8227796374797384\n",
      "iteration 5 train rmse 0.7959366833398801 test rmse 0.8216873645905697\n",
      "iteration 6 train rmse 0.795227013785292 test rmse 0.8210099123394022\n",
      "iteration 7 train rmse 0.7947222225819601 test rmse 0.8205055768494249\n",
      "iteration 8 train rmse 0.7943085490225742 test rmse 0.8200716944007473\n",
      "iteration 9 train rmse 0.7939325355367665 test rmse 0.8196573707249003\n",
      "iteration 10 train rmse 0.7935657318515991 test rmse 0.8192403286072188\n",
      "iteration 11 train rmse 0.7931913977381015 test rmse 0.8188121769336819\n",
      "iteration 12 train rmse 0.7927996000617302 test rmse 0.8183674073424275\n",
      "iteration 13 train rmse 0.7923871447137489 test rmse 0.8179136605923594\n",
      "iteration 14 train rmse 0.7919640386252216 test rmse 0.8174548303010015\n",
      "iteration 15 train rmse 0.7915389274422938 test rmse 0.8170038414322291\n",
      "iteration 16 train rmse 0.7911159102878383 test rmse 0.8165715570293749\n",
      "iteration 17 train rmse 0.7907026487385118 test rmse 0.8161740416327948\n",
      "iteration 18 train rmse 0.7903189348685653 test rmse 0.8158301569997374\n",
      "iteration 19 train rmse 0.7899860567072128 test rmse 0.8155513402331707\n",
      "iteration 20 train rmse 0.7897159562136933 test rmse 0.8153315503004307\n",
      "iteration 21 train rmse 0.7895057169687504 test rmse 0.815157802940355\n",
      "iteration 22 train rmse 0.7893434532190525 test rmse 0.8150202634189061\n",
      "iteration 23 train rmse 0.7892160402831071 test rmse 0.8149085255832008\n",
      "iteration 24 train rmse 0.7891191165232585 test rmse 0.8148227074279927\n",
      "iteration 25 train rmse 0.7890457653881342 test rmse 0.8147567624551184\n",
      "iteration 26 train rmse 0.7889901106360002 test rmse 0.8147050792933603\n",
      "iteration 27 train rmse 0.7889471595083759 test rmse 0.8146641778979734\n",
      "iteration 28 train rmse 0.7889140230824778 test rmse 0.814631061501728\n",
      "iteration 29 train rmse 0.7888880170259338 test rmse 0.81460451898476\n",
      "iteration 30 train rmse 0.7888680170499899 test rmse 0.8145835080392273\n",
      "iteration 31 train rmse 0.7888530112136634 test rmse 0.8145660954595216\n",
      "iteration 32 train rmse 0.7888416597241588 test rmse 0.8145515681317449\n",
      "iteration 33 train rmse 0.7888331158783614 test rmse 0.8145394078559398\n",
      "iteration 34 train rmse 0.7888266190289108 test rmse 0.8145291541634235\n",
      "iteration 35 train rmse 0.7888219293381326 test rmse 0.8145204063329272\n",
      "iteration 36 train rmse 0.7888185322424939 test rmse 0.8145128220057848\n",
      "iteration 37 train rmse 0.7888160306969743 test rmse 0.8145062933056127\n",
      "iteration 38 train rmse 0.7888142672121298 test rmse 0.8145001064197679\n",
      "iteration 39 train rmse 0.788813205794514 test rmse 0.8144941702951607\n",
      "iteration 40 train rmse 0.7888126538605184 test rmse 0.8144886227492186\n",
      "iteration 41 train rmse 0.7888125118036036 test rmse 0.8144834779090362\n",
      "iteration 42 train rmse 0.7888126682469524 test rmse 0.814478612980305\n",
      "iteration 43 train rmse 0.7888130016486282 test rmse 0.8144740290511412\n",
      "iteration 44 train rmse 0.7888135557143509 test rmse 0.8144696837419267\n",
      "iteration 45 train rmse 0.7888143048069862 test rmse 0.8144654083358608\n",
      "iteration 46 train rmse 0.7888151810121344 test rmse 0.8144612500392009\n",
      "iteration 47 train rmse 0.7888161677045445 test rmse 0.8144572371774247\n",
      "iteration 48 train rmse 0.7888172515403309 test rmse 0.8144533687757262\n",
      "iteration 49 train rmse 0.7888183970217707 test rmse 0.8144496458819833\n",
      "iteration 50 train rmse 0.788819541167317 test rmse 0.8144460864849087\n"
     ]
    }
   ],
   "source": [
    "lam = 5\n",
    "gamm = 0.1\n",
    "tau = 1\n",
    "epochs = 100\n",
    "\n",
    "K = 2\n",
    "\n",
    "M = len(train_user_data)\n",
    "N = len(test_movie_data)\n",
    "\n",
    "user_biases_train = np.zeros((M))\n",
    "item_biases_train = np.zeros((N))\n",
    "user_factor_train = np.random.normal(loc=0, scale= 1/np.sqrt(K), size= (M,K))\n",
    "item_factor_train = np.random.normal(loc=0, scale= 1/np.sqrt(K), size= (K,N))\n",
    "\n",
    "losses_latent_train = []\n",
    "losses_latent_test = []\n",
    "rmse_latent_train = []\n",
    "rmse_latent_test = []\n",
    "\n",
    "for i in range(epochs):\n",
    "\n",
    "#updating user bias\n",
    "  for m in range(M):\n",
    "    bias = 0\n",
    "    item_counter = 0\n",
    "    if train_user_data[m]:\n",
    "      for (n, r) in train_user_data[m]:\n",
    "        bias += lam * (r - user_factor_train[m,:].T.dot(item_factor_train[:,n]) - item_biases_train[n])\n",
    "        item_counter += 1\n",
    "      bias = bias / (lam * item_counter + gamm)\n",
    "      user_biases_train[m] = bias\n",
    "\n",
    "  #updating user factor\n",
    "      user_factorm_train = 0\n",
    "      user_factormm_train = 0\n",
    "      for (n,r) in train_user_data[m]:\n",
    "        user_factorm_train +=  item_factor_train[:,n]*item_factor_train[:,n].reshape(-1,1)\n",
    "        user_factormm_train +=  item_factor_train[:,n] * (r - user_biases_train[m] - item_biases_train[n])\n",
    "      user_factor_train[m,:] = np.linalg.solve(lam * user_factorm_train + tau * np.identity(K), lam * user_factormm_train)\n",
    "\n",
    "#updating item bias\n",
    "  for n in range(N):\n",
    "    bias = 0\n",
    "    user_counter = 0\n",
    "    if train_movie_data[n]:\n",
    "      for (m, r) in train_movie_data[n]:\n",
    "        bias += lam * (r - user_factor_train[m,:].T.dot( item_factor_train[:,n]) - user_biases_train[m])\n",
    "        user_counter += 1\n",
    "      bias = bias / (lam * user_counter + gamm)\n",
    "      item_biases_train[n] = bias\n",
    "\n",
    "  #updating item factor\n",
    "      item_factorm_train = 0\n",
    "      item_factormm_train = 0\n",
    "      for (m,r) in train_movie_data[n]:\n",
    "        item_factorm_train += user_factor_train[m,:]*user_factor_train[m,:].reshape(-1,1)\n",
    "        item_factormm_train += user_factor_train[m,:] * (r - user_biases_train[m] - item_biases_train[n])\n",
    "      item_factor_train[:,n] = np.linalg.solve(lam * item_factorm_train + tau * np.identity(K), lam * item_factormm_train)\n",
    "\n",
    "#calculating losses for train\n",
    "  residue = 0\n",
    "  train_size = 0\n",
    "  for m in range(M):\n",
    "    for (n, r) in train_user_data[m]:\n",
    "      residue += (r - user_factor_train[m,:].T.dot(item_factor_train[:,n]) - (user_biases_train[m] + item_biases_train[n]))** 2\n",
    "      train_size += 1\n",
    "  loss = (-(lam/2) * residue) - ((gamm/2 * np.sum(user_biases_train**2)) + (gamm/2 * np.sum(item_biases_train**2)))\n",
    "  loss = loss - 0.5 * tau * (np.einsum('ji,ij->',user_factor_train.T,user_factor_train) + np.einsum('ji,ij->',item_factor_train.T,item_factor_train))\n",
    "  losses_latent_train.append(loss)\n",
    "\n",
    "# calculating losses for test\n",
    "  residue_test = 0\n",
    "  test_size = 0\n",
    "  for m in range(M):\n",
    "    for (n, r) in test_user_data[m]:\n",
    "      residue_test += (r - user_factor_train[m,:].T.dot(item_factor_train[:,n]) - (user_biases_train[m] + item_biases_train[n]))** 2\n",
    "      test_size += 1\n",
    "  loss_test = (-(lam/2) * residue_test) - ((gamm/2 * np.sum(user_biases_train**2)) + (gamm/2 * np.sum(item_biases_train**2)))\n",
    "  loss_test = loss_test - 0.5 * tau * (np.einsum('ji,ij->',user_factor_train.T,user_factor_train) + np.einsum('ji,ij->',item_factor_train.T,item_factor_train))\n",
    "  losses_latent_test.append(loss_test)\n",
    "\n",
    "#calculating rmse for train\n",
    "  setrmse = (1/train_size) * residue\n",
    "  setrmse = np.sqrt(setrmse)\n",
    "  rmse_latent_train.append(setrmse)\n",
    "\n",
    "#calculating rmse for test\n",
    "  setrmse_test = (1/test_size) * residue_test\n",
    "  setrmse_test = np.sqrt(setrmse_test)\n",
    "  rmse_latent_test.append(setrmse_test)\n",
    "\n",
    "  print(f'iteration {i} train rmse {setrmse} test rmse {setrmse_test}')"
   ]
  },
  {
   "cell_type": "code",
   "execution_count": 7,
   "metadata": {
    "scrolled": true
   },
   "outputs": [
    {
     "name": "stderr",
     "output_type": "stream",
     "text": [
      "  1%|▍                                          | 1/100 [00:31<52:04, 31.56s/it]"
     ]
    },
    {
     "name": "stdout",
     "output_type": "stream",
     "text": [
      "train rmse 0.7761547448157005 test rmse 0.9665756815774773\n"
     ]
    },
    {
     "name": "stderr",
     "output_type": "stream",
     "text": [
      "  2%|▊                                          | 2/100 [01:02<50:34, 30.97s/it]"
     ]
    },
    {
     "name": "stdout",
     "output_type": "stream",
     "text": [
      "train rmse 0.7201898866513424 test rmse 0.9319115966993221\n"
     ]
    },
    {
     "name": "stderr",
     "output_type": "stream",
     "text": [
      "  3%|█▎                                         | 3/100 [01:32<49:39, 30.72s/it]"
     ]
    },
    {
     "name": "stdout",
     "output_type": "stream",
     "text": [
      "train rmse 0.6891791387623928 test rmse 0.9054668432805772\n"
     ]
    },
    {
     "name": "stderr",
     "output_type": "stream",
     "text": [
      "  4%|█▋                                         | 4/100 [02:02<48:57, 30.60s/it]"
     ]
    },
    {
     "name": "stdout",
     "output_type": "stream",
     "text": [
      "train rmse 0.6707608882034958 test rmse 0.8891798142769086\n"
     ]
    },
    {
     "name": "stderr",
     "output_type": "stream",
     "text": [
      "  5%|██▏                                        | 5/100 [02:33<48:23, 30.57s/it]"
     ]
    },
    {
     "name": "stdout",
     "output_type": "stream",
     "text": [
      "train rmse 0.6594818163671895 test rmse 0.87961088948691\n"
     ]
    },
    {
     "name": "stderr",
     "output_type": "stream",
     "text": [
      "  6%|██▌                                        | 6/100 [03:03<47:51, 30.55s/it]"
     ]
    },
    {
     "name": "stdout",
     "output_type": "stream",
     "text": [
      "train rmse 0.6521657511158963 test rmse 0.8738277226859927\n"
     ]
    },
    {
     "name": "stderr",
     "output_type": "stream",
     "text": [
      "  7%|███                                        | 7/100 [03:34<47:17, 30.51s/it]"
     ]
    },
    {
     "name": "stdout",
     "output_type": "stream",
     "text": [
      "train rmse 0.6470971995732253 test rmse 0.8701630628703643\n"
     ]
    },
    {
     "name": "stderr",
     "output_type": "stream",
     "text": [
      "  8%|███▍                                       | 8/100 [04:04<46:46, 30.50s/it]"
     ]
    },
    {
     "name": "stdout",
     "output_type": "stream",
     "text": [
      "train rmse 0.6433840135715119 test rmse 0.8677557038224877\n"
     ]
    },
    {
     "name": "stderr",
     "output_type": "stream",
     "text": [
      "  9%|███▊                                       | 9/100 [04:35<46:15, 30.50s/it]"
     ]
    },
    {
     "name": "stdout",
     "output_type": "stream",
     "text": [
      "train rmse 0.6405392624864669 test rmse 0.8661272294280515\n"
     ]
    },
    {
     "name": "stderr",
     "output_type": "stream",
     "text": [
      " 10%|████▏                                     | 10/100 [05:07<46:33, 31.04s/it]"
     ]
    },
    {
     "name": "stdout",
     "output_type": "stream",
     "text": [
      "train rmse 0.6382800437518404 test rmse 0.8649740570410063\n"
     ]
    },
    {
     "name": "stderr",
     "output_type": "stream",
     "text": [
      " 11%|████▌                                     | 11/100 [05:40<46:54, 31.63s/it]"
     ]
    },
    {
     "name": "stdout",
     "output_type": "stream",
     "text": [
      "train rmse 0.6364326473135974 test rmse 0.8641191020321449\n"
     ]
    },
    {
     "name": "stderr",
     "output_type": "stream",
     "text": [
      " 12%|█████                                     | 12/100 [06:12<46:31, 31.72s/it]"
     ]
    },
    {
     "name": "stdout",
     "output_type": "stream",
     "text": [
      "train rmse 0.6348879870499627 test rmse 0.8634716395830452\n"
     ]
    },
    {
     "name": "stderr",
     "output_type": "stream",
     "text": [
      " 13%|█████▍                                    | 13/100 [06:44<46:08, 31.83s/it]"
     ]
    },
    {
     "name": "stdout",
     "output_type": "stream",
     "text": [
      "train rmse 0.6335753357388938 test rmse 0.8629887533489652\n"
     ]
    },
    {
     "name": "stderr",
     "output_type": "stream",
     "text": [
      " 14%|█████▉                                    | 14/100 [07:16<45:43, 31.90s/it]"
     ]
    },
    {
     "name": "stdout",
     "output_type": "stream",
     "text": [
      "train rmse 0.6324469552186827 test rmse 0.8626490457380762\n"
     ]
    },
    {
     "name": "stderr",
     "output_type": "stream",
     "text": [
      " 15%|██████▎                                   | 15/100 [07:48<45:14, 31.94s/it]"
     ]
    },
    {
     "name": "stdout",
     "output_type": "stream",
     "text": [
      "train rmse 0.6314689408533187 test rmse 0.8624376596563615\n"
     ]
    },
    {
     "name": "stderr",
     "output_type": "stream",
     "text": [
      " 16%|██████▋                                   | 16/100 [08:20<44:43, 31.95s/it]"
     ]
    },
    {
     "name": "stdout",
     "output_type": "stream",
     "text": [
      "train rmse 0.6306158775368991 test rmse 0.8623417141084303\n"
     ]
    },
    {
     "name": "stderr",
     "output_type": "stream",
     "text": [
      " 17%|███████▏                                  | 17/100 [08:52<44:12, 31.95s/it]"
     ]
    },
    {
     "name": "stdout",
     "output_type": "stream",
     "text": [
      "train rmse 0.6298678707828818 test rmse 0.8623469383377421\n"
     ]
    },
    {
     "name": "stderr",
     "output_type": "stream",
     "text": [
      " 18%|███████▌                                  | 18/100 [09:24<43:38, 31.94s/it]"
     ]
    },
    {
     "name": "stdout",
     "output_type": "stream",
     "text": [
      "train rmse 0.6292089761645674 test rmse 0.8624378822963268\n"
     ]
    },
    {
     "name": "stderr",
     "output_type": "stream",
     "text": [
      " 19%|███████▉                                  | 19/100 [09:56<43:04, 31.91s/it]"
     ]
    },
    {
     "name": "stdout",
     "output_type": "stream",
     "text": [
      "train rmse 0.628626316543415 test rmse 0.8625989490312603\n"
     ]
    },
    {
     "name": "stderr",
     "output_type": "stream",
     "text": [
      " 20%|████████▍                                 | 20/100 [10:28<42:32, 31.91s/it]"
     ]
    },
    {
     "name": "stdout",
     "output_type": "stream",
     "text": [
      "train rmse 0.6281093697695945 test rmse 0.8628162358511806\n"
     ]
    },
    {
     "name": "stderr",
     "output_type": "stream",
     "text": [
      " 21%|████████▊                                 | 21/100 [11:00<42:05, 31.97s/it]"
     ]
    },
    {
     "name": "stdout",
     "output_type": "stream",
     "text": [
      "train rmse 0.6276494562537485 test rmse 0.8630773530388032\n"
     ]
    },
    {
     "name": "stderr",
     "output_type": "stream",
     "text": [
      " 22%|█████████▏                                | 22/100 [11:32<41:32, 31.96s/it]"
     ]
    },
    {
     "name": "stdout",
     "output_type": "stream",
     "text": [
      "train rmse 0.6272391042852519 test rmse 0.8633714489700991\n"
     ]
    },
    {
     "name": "stderr",
     "output_type": "stream",
     "text": [
      " 23%|█████████▋                                | 23/100 [12:04<40:59, 31.94s/it]"
     ]
    },
    {
     "name": "stdout",
     "output_type": "stream",
     "text": [
      "train rmse 0.6268717440722332 test rmse 0.8636901856331016\n"
     ]
    },
    {
     "name": "stderr",
     "output_type": "stream",
     "text": [
      " 24%|██████████                                | 24/100 [12:36<40:26, 31.92s/it]"
     ]
    },
    {
     "name": "stdout",
     "output_type": "stream",
     "text": [
      "train rmse 0.6265415862879579 test rmse 0.8640270596692453\n"
     ]
    },
    {
     "name": "stderr",
     "output_type": "stream",
     "text": [
      " 25%|██████████▌                               | 25/100 [13:08<39:56, 31.95s/it]"
     ]
    },
    {
     "name": "stdout",
     "output_type": "stream",
     "text": [
      "train rmse 0.626243614352345 test rmse 0.8643770245055572\n"
     ]
    },
    {
     "name": "stderr",
     "output_type": "stream",
     "text": [
      " 26%|██████████▉                               | 26/100 [13:39<39:21, 31.92s/it]"
     ]
    },
    {
     "name": "stdout",
     "output_type": "stream",
     "text": [
      "train rmse 0.6259735841017153 test rmse 0.8647359015145022\n"
     ]
    },
    {
     "name": "stderr",
     "output_type": "stream",
     "text": [
      " 27%|███████████▎                              | 27/100 [14:11<38:50, 31.92s/it]"
     ]
    },
    {
     "name": "stdout",
     "output_type": "stream",
     "text": [
      "train rmse 0.6257280008067031 test rmse 0.8651000437707124\n"
     ]
    },
    {
     "name": "stderr",
     "output_type": "stream",
     "text": [
      " 28%|███████████▊                              | 28/100 [14:43<38:19, 31.94s/it]"
     ]
    },
    {
     "name": "stdout",
     "output_type": "stream",
     "text": [
      "train rmse 0.6255038528693393 test rmse 0.8654666207985449\n"
     ]
    },
    {
     "name": "stderr",
     "output_type": "stream",
     "text": [
      " 29%|████████████▏                             | 29/100 [15:16<37:52, 32.00s/it]"
     ]
    },
    {
     "name": "stdout",
     "output_type": "stream",
     "text": [
      "train rmse 0.625298521646492 test rmse 0.8658339580655448\n"
     ]
    },
    {
     "name": "stderr",
     "output_type": "stream",
     "text": [
      " 30%|████████████▌                             | 30/100 [15:48<37:20, 32.01s/it]"
     ]
    },
    {
     "name": "stdout",
     "output_type": "stream",
     "text": [
      "train rmse 0.6251097705202614 test rmse 0.8662011700462882\n"
     ]
    },
    {
     "name": "stderr",
     "output_type": "stream",
     "text": [
      " 31%|█████████████                             | 31/100 [16:20<36:49, 32.02s/it]"
     ]
    },
    {
     "name": "stdout",
     "output_type": "stream",
     "text": [
      "train rmse 0.6249356960031709 test rmse 0.8665677032212156\n"
     ]
    },
    {
     "name": "stderr",
     "output_type": "stream",
     "text": [
      " 32%|█████████████▍                            | 32/100 [16:52<36:20, 32.07s/it]"
     ]
    },
    {
     "name": "stdout",
     "output_type": "stream",
     "text": [
      "train rmse 0.624774679112025 test rmse 0.8669333385405051\n"
     ]
    },
    {
     "name": "stderr",
     "output_type": "stream",
     "text": [
      " 33%|█████████████▊                            | 33/100 [17:24<35:47, 32.05s/it]"
     ]
    },
    {
     "name": "stdout",
     "output_type": "stream",
     "text": [
      "train rmse 0.6246253344840598 test rmse 0.8672981349205834\n"
     ]
    },
    {
     "name": "stderr",
     "output_type": "stream",
     "text": [
      " 34%|██████████████▎                           | 34/100 [17:56<35:14, 32.04s/it]"
     ]
    },
    {
     "name": "stdout",
     "output_type": "stream",
     "text": [
      "train rmse 0.6244864706450818 test rmse 0.8676623962907017\n"
     ]
    },
    {
     "name": "stderr",
     "output_type": "stream",
     "text": [
      " 35%|██████████████▋                           | 35/100 [18:28<34:42, 32.03s/it]"
     ]
    },
    {
     "name": "stdout",
     "output_type": "stream",
     "text": [
      "train rmse 0.6243570650060826 test rmse 0.8680262793721805\n"
     ]
    },
    {
     "name": "stderr",
     "output_type": "stream",
     "text": [
      " 36%|███████████████                           | 36/100 [19:00<34:11, 32.05s/it]"
     ]
    },
    {
     "name": "stdout",
     "output_type": "stream",
     "text": [
      "train rmse 0.6242362413269832 test rmse 0.8683893827444017\n"
     ]
    },
    {
     "name": "stderr",
     "output_type": "stream",
     "text": [
      " 37%|███████████████▌                          | 37/100 [19:32<33:38, 32.04s/it]"
     ]
    },
    {
     "name": "stdout",
     "output_type": "stream",
     "text": [
      "train rmse 0.6241232496790071 test rmse 0.8687507467536917\n"
     ]
    },
    {
     "name": "stderr",
     "output_type": "stream",
     "text": [
      " 38%|███████████████▉                          | 38/100 [20:04<33:05, 32.03s/it]"
     ]
    },
    {
     "name": "stdout",
     "output_type": "stream",
     "text": [
      "train rmse 0.6240174399842616 test rmse 0.8691091720475675\n"
     ]
    },
    {
     "name": "stderr",
     "output_type": "stream",
     "text": [
      " 39%|████████████████▍                         | 39/100 [20:36<32:33, 32.02s/it]"
     ]
    },
    {
     "name": "stdout",
     "output_type": "stream",
     "text": [
      "train rmse 0.6239182279977794 test rmse 0.8694636960177596\n"
     ]
    },
    {
     "name": "stderr",
     "output_type": "stream",
     "text": [
      " 40%|████████████████▊                         | 40/100 [21:08<32:00, 32.01s/it]"
     ]
    },
    {
     "name": "stdout",
     "output_type": "stream",
     "text": [
      "train rmse 0.62382507397444 test rmse 0.8698137474667786\n"
     ]
    },
    {
     "name": "stderr",
     "output_type": "stream",
     "text": [
      " 41%|█████████████████▏                        | 41/100 [21:40<31:26, 31.98s/it]"
     ]
    },
    {
     "name": "stdout",
     "output_type": "stream",
     "text": [
      "train rmse 0.6237374773461939 test rmse 0.8701589622195082\n"
     ]
    },
    {
     "name": "stderr",
     "output_type": "stream",
     "text": [
      " 42%|█████████████████▋                        | 42/100 [22:12<30:53, 31.96s/it]"
     ]
    },
    {
     "name": "stdout",
     "output_type": "stream",
     "text": [
      "train rmse 0.623654976925174 test rmse 0.8704990688109758\n"
     ]
    },
    {
     "name": "stderr",
     "output_type": "stream",
     "text": [
      " 43%|██████████████████                        | 43/100 [22:44<30:22, 31.98s/it]"
     ]
    },
    {
     "name": "stdout",
     "output_type": "stream",
     "text": [
      "train rmse 0.6235771530820474 test rmse 0.8708338606008066\n"
     ]
    },
    {
     "name": "stderr",
     "output_type": "stream",
     "text": [
      " 44%|██████████████████▍                       | 44/100 [23:16<29:53, 32.03s/it]"
     ]
    },
    {
     "name": "stdout",
     "output_type": "stream",
     "text": [
      "train rmse 0.6235036244929529 test rmse 0.871163108933119\n"
     ]
    },
    {
     "name": "stderr",
     "output_type": "stream",
     "text": [
      " 45%|██████████████████▉                       | 45/100 [23:48<29:23, 32.07s/it]"
     ]
    },
    {
     "name": "stdout",
     "output_type": "stream",
     "text": [
      "train rmse 0.6234340751445688 test rmse 0.871486401034722\n"
     ]
    },
    {
     "name": "stderr",
     "output_type": "stream",
     "text": [
      " 46%|███████████████████▎                      | 46/100 [24:20<28:49, 32.03s/it]"
     ]
    },
    {
     "name": "stdout",
     "output_type": "stream",
     "text": [
      "train rmse 0.6233682410203747 test rmse 0.8718032191887153\n"
     ]
    },
    {
     "name": "stderr",
     "output_type": "stream",
     "text": [
      " 47%|███████████████████▋                      | 47/100 [24:52<28:17, 32.02s/it]"
     ]
    },
    {
     "name": "stdout",
     "output_type": "stream",
     "text": [
      "train rmse 0.6233058498388211 test rmse 0.8721132538143254\n"
     ]
    },
    {
     "name": "stderr",
     "output_type": "stream",
     "text": [
      " 48%|████████████████████▏                     | 48/100 [25:24<27:47, 32.06s/it]"
     ]
    },
    {
     "name": "stdout",
     "output_type": "stream",
     "text": [
      "train rmse 0.6232466569464056 test rmse 0.8724162547312743\n"
     ]
    },
    {
     "name": "stderr",
     "output_type": "stream",
     "text": [
      " 49%|████████████████████▌                     | 49/100 [25:54<26:41, 31.39s/it]"
     ]
    },
    {
     "name": "stdout",
     "output_type": "stream",
     "text": [
      "train rmse 0.6231904418689318 test rmse 0.8727120887970079\n"
     ]
    },
    {
     "name": "stderr",
     "output_type": "stream",
     "text": [
      " 50%|█████████████████████                     | 50/100 [26:24<25:46, 30.92s/it]"
     ]
    },
    {
     "name": "stdout",
     "output_type": "stream",
     "text": [
      "train rmse 0.6231370076821492 test rmse 0.8730007664484495\n"
     ]
    },
    {
     "name": "stderr",
     "output_type": "stream",
     "text": [
      " 51%|█████████████████████▍                    | 51/100 [26:54<25:00, 30.62s/it]"
     ]
    },
    {
     "name": "stdout",
     "output_type": "stream",
     "text": [
      "train rmse 0.623086181935409 test rmse 0.8732823675430026\n"
     ]
    },
    {
     "name": "stderr",
     "output_type": "stream",
     "text": [
      " 52%|█████████████████████▊                    | 52/100 [27:24<24:21, 30.45s/it]"
     ]
    },
    {
     "name": "stdout",
     "output_type": "stream",
     "text": [
      "train rmse 0.6230378084031688 test rmse 0.8735568858657248\n"
     ]
    },
    {
     "name": "stderr",
     "output_type": "stream",
     "text": [
      " 53%|██████████████████████▎                   | 53/100 [27:54<23:42, 30.27s/it]"
     ]
    },
    {
     "name": "stdout",
     "output_type": "stream",
     "text": [
      "train rmse 0.6229917343924114 test rmse 0.8738243097234624\n"
     ]
    },
    {
     "name": "stderr",
     "output_type": "stream",
     "text": [
      " 54%|██████████████████████▋                   | 54/100 [28:23<23:06, 30.14s/it]"
     ]
    },
    {
     "name": "stdout",
     "output_type": "stream",
     "text": [
      "train rmse 0.6229478091426279 test rmse 0.874084797877237\n"
     ]
    },
    {
     "name": "stderr",
     "output_type": "stream",
     "text": [
      " 55%|███████████████████████                   | 55/100 [28:54<22:47, 30.39s/it]"
     ]
    },
    {
     "name": "stdout",
     "output_type": "stream",
     "text": [
      "train rmse 0.6229058896643188 test rmse 0.8743386663707075\n"
     ]
    },
    {
     "name": "stderr",
     "output_type": "stream",
     "text": [
      " 56%|███████████████████████▌                  | 56/100 [29:24<22:09, 30.23s/it]"
     ]
    },
    {
     "name": "stdout",
     "output_type": "stream",
     "text": [
      "train rmse 0.6228658423298195 test rmse 0.8745863132570477\n"
     ]
    },
    {
     "name": "stderr",
     "output_type": "stream",
     "text": [
      " 57%|███████████████████████▉                  | 57/100 [29:54<21:34, 30.11s/it]"
     ]
    },
    {
     "name": "stdout",
     "output_type": "stream",
     "text": [
      "train rmse 0.6228275419520876 test rmse 0.8748281890829243\n"
     ]
    },
    {
     "name": "stderr",
     "output_type": "stream",
     "text": [
      " 58%|████████████████████████▎                 | 58/100 [30:24<21:01, 30.03s/it]"
     ]
    },
    {
     "name": "stdout",
     "output_type": "stream",
     "text": [
      "train rmse 0.6227908747858741 test rmse 0.8750647608479106\n"
     ]
    },
    {
     "name": "stderr",
     "output_type": "stream",
     "text": [
      " 59%|████████████████████████▊                 | 59/100 [30:54<20:33, 30.08s/it]"
     ]
    },
    {
     "name": "stdout",
     "output_type": "stream",
     "text": [
      "train rmse 0.6227557406682644 test rmse 0.8752964334911846\n"
     ]
    },
    {
     "name": "stderr",
     "output_type": "stream",
     "text": [
      " 60%|█████████████████████████▏                | 60/100 [31:24<20:00, 30.01s/it]"
     ]
    },
    {
     "name": "stdout",
     "output_type": "stream",
     "text": [
      "train rmse 0.6227220463282719 test rmse 0.875523530742387\n"
     ]
    },
    {
     "name": "stderr",
     "output_type": "stream",
     "text": [
      " 61%|█████████████████████████▌                | 61/100 [31:54<19:28, 29.96s/it]"
     ]
    },
    {
     "name": "stdout",
     "output_type": "stream",
     "text": [
      "train rmse 0.6226896987075901 test rmse 0.8757463856441818\n"
     ]
    },
    {
     "name": "stderr",
     "output_type": "stream",
     "text": [
      " 62%|██████████████████████████                | 62/100 [32:24<18:56, 29.91s/it]"
     ]
    },
    {
     "name": "stdout",
     "output_type": "stream",
     "text": [
      "train rmse 0.6226586174673486 test rmse 0.8759651955461577\n"
     ]
    },
    {
     "name": "stderr",
     "output_type": "stream",
     "text": [
      " 63%|██████████████████████████▍               | 63/100 [32:54<18:26, 29.91s/it]"
     ]
    },
    {
     "name": "stdout",
     "output_type": "stream",
     "text": [
      "train rmse 0.6226287522276073 test rmse 0.8761798114234016\n"
     ]
    },
    {
     "name": "stderr",
     "output_type": "stream",
     "text": [
      " 64%|██████████████████████████▉               | 64/100 [33:23<17:56, 29.91s/it]"
     ]
    },
    {
     "name": "stdout",
     "output_type": "stream",
     "text": [
      "train rmse 0.6226000467711437 test rmse 0.8763902963416464\n"
     ]
    },
    {
     "name": "stderr",
     "output_type": "stream",
     "text": [
      " 65%|███████████████████████████▎              | 65/100 [33:53<17:26, 29.89s/it]"
     ]
    },
    {
     "name": "stdout",
     "output_type": "stream",
     "text": [
      "train rmse 0.6225724352655738 test rmse 0.8765968561945549\n"
     ]
    },
    {
     "name": "stderr",
     "output_type": "stream",
     "text": [
      " 66%|███████████████████████████▋              | 66/100 [34:23<16:56, 29.89s/it]"
     ]
    },
    {
     "name": "stdout",
     "output_type": "stream",
     "text": [
      "train rmse 0.6225458594534791 test rmse 0.8767996154909296\n"
     ]
    },
    {
     "name": "stderr",
     "output_type": "stream",
     "text": [
      " 67%|████████████████████████████▏             | 67/100 [34:53<16:28, 29.95s/it]"
     ]
    },
    {
     "name": "stdout",
     "output_type": "stream",
     "text": [
      "train rmse 0.6225202682180934 test rmse 0.8769986594322748\n"
     ]
    },
    {
     "name": "stderr",
     "output_type": "stream",
     "text": [
      " 68%|████████████████████████████▌             | 68/100 [35:23<15:59, 29.98s/it]"
     ]
    },
    {
     "name": "stdout",
     "output_type": "stream",
     "text": [
      "train rmse 0.62249561408317 test rmse 0.8771940400543184\n"
     ]
    },
    {
     "name": "stderr",
     "output_type": "stream",
     "text": [
      " 69%|████████████████████████████▉             | 69/100 [35:53<15:27, 29.93s/it]"
     ]
    },
    {
     "name": "stdout",
     "output_type": "stream",
     "text": [
      "train rmse 0.6224718505137202 test rmse 0.877385782257029\n"
     ]
    },
    {
     "name": "stderr",
     "output_type": "stream",
     "text": [
      " 70%|█████████████████████████████▍            | 70/100 [36:23<14:57, 29.91s/it]"
     ]
    },
    {
     "name": "stdout",
     "output_type": "stream",
     "text": [
      "train rmse 0.6224489320435659 test rmse 0.8775739018552721\n"
     ]
    },
    {
     "name": "stderr",
     "output_type": "stream",
     "text": [
      " 71%|█████████████████████████████▊            | 71/100 [36:53<14:25, 29.85s/it]"
     ]
    },
    {
     "name": "stdout",
     "output_type": "stream",
     "text": [
      "train rmse 0.622426815473376 test rmse 0.8777584183956059\n"
     ]
    },
    {
     "name": "stderr",
     "output_type": "stream",
     "text": [
      " 72%|██████████████████████████████▏           | 72/100 [37:23<13:55, 29.84s/it]"
     ]
    },
    {
     "name": "stdout",
     "output_type": "stream",
     "text": [
      "train rmse 0.6224054606086694 test rmse 0.8779393577376591\n"
     ]
    },
    {
     "name": "stderr",
     "output_type": "stream",
     "text": [
      " 73%|██████████████████████████████▋           | 73/100 [37:52<13:25, 29.83s/it]"
     ]
    },
    {
     "name": "stdout",
     "output_type": "stream",
     "text": [
      "train rmse 0.6223848303462304 test rmse 0.8781167494258366\n"
     ]
    },
    {
     "name": "stderr",
     "output_type": "stream",
     "text": [
      " 74%|███████████████████████████████           | 74/100 [38:23<12:59, 29.97s/it]"
     ]
    },
    {
     "name": "stdout",
     "output_type": "stream",
     "text": [
      "train rmse 0.6223648901985698 test rmse 0.8782906247264419\n"
     ]
    },
    {
     "name": "stderr",
     "output_type": "stream",
     "text": [
      " 75%|███████████████████████████████▌          | 75/100 [38:53<12:28, 29.96s/it]"
     ]
    },
    {
     "name": "stdout",
     "output_type": "stream",
     "text": [
      "train rmse 0.6223456075219674 test rmse 0.8784610186723366\n"
     ]
    },
    {
     "name": "stderr",
     "output_type": "stream",
     "text": [
      " 76%|███████████████████████████████▉          | 76/100 [39:22<11:57, 29.91s/it]"
     ]
    },
    {
     "name": "stdout",
     "output_type": "stream",
     "text": [
      "train rmse 0.6223269508892745 test rmse 0.8786279786347284\n"
     ]
    },
    {
     "name": "stderr",
     "output_type": "stream",
     "text": [
      " 77%|████████████████████████████████▎         | 77/100 [39:52<11:27, 29.87s/it]"
     ]
    },
    {
     "name": "stdout",
     "output_type": "stream",
     "text": [
      "train rmse 0.6223088899319439 test rmse 0.878791578379982\n"
     ]
    },
    {
     "name": "stderr",
     "output_type": "stream",
     "text": [
      " 78%|████████████████████████████████▊         | 78/100 [40:22<10:58, 29.94s/it]"
     ]
    },
    {
     "name": "stdout",
     "output_type": "stream",
     "text": [
      "train rmse 0.6222913955854523 test rmse 0.8789519264974527\n"
     ]
    },
    {
     "name": "stderr",
     "output_type": "stream",
     "text": [
      " 79%|█████████████████████████████████▏        | 79/100 [40:52<10:29, 29.99s/it]"
     ]
    },
    {
     "name": "stdout",
     "output_type": "stream",
     "text": [
      "train rmse 0.622274440375598 test rmse 0.8791091615633241\n"
     ]
    },
    {
     "name": "stderr",
     "output_type": "stream",
     "text": [
      " 80%|█████████████████████████████████▌        | 80/100 [41:22<09:58, 29.94s/it]"
     ]
    },
    {
     "name": "stdout",
     "output_type": "stream",
     "text": [
      "train rmse 0.622257998529997 test rmse 0.879263440602712\n"
     ]
    },
    {
     "name": "stderr",
     "output_type": "stream",
     "text": [
      " 81%|██████████████████████████████████        | 81/100 [41:52<09:28, 29.92s/it]"
     ]
    },
    {
     "name": "stdout",
     "output_type": "stream",
     "text": [
      "train rmse 0.622242046216351 test rmse 0.8794149205790835\n"
     ]
    },
    {
     "name": "stderr",
     "output_type": "stream",
     "text": [
      " 82%|██████████████████████████████████▍       | 82/100 [42:22<08:58, 29.89s/it]"
     ]
    },
    {
     "name": "stdout",
     "output_type": "stream",
     "text": [
      "train rmse 0.6222265624290457 test rmse 0.8795637260374374\n"
     ]
    },
    {
     "name": "stderr",
     "output_type": "stream",
     "text": [
      " 83%|██████████████████████████████████▊       | 83/100 [42:52<08:28, 29.91s/it]"
     ]
    },
    {
     "name": "stdout",
     "output_type": "stream",
     "text": [
      "train rmse 0.622211530148036 test rmse 0.8797099245539545\n"
     ]
    },
    {
     "name": "stderr",
     "output_type": "stream",
     "text": [
      " 84%|███████████████████████████████████▎      | 84/100 [43:22<07:57, 29.84s/it]"
     ]
    },
    {
     "name": "stdout",
     "output_type": "stream",
     "text": [
      "train rmse 0.622196935897414 test rmse 0.8798535192644915\n"
     ]
    },
    {
     "name": "stderr",
     "output_type": "stream",
     "text": [
      " 85%|███████████████████████████████████▋      | 85/100 [43:52<07:30, 30.04s/it]"
     ]
    },
    {
     "name": "stdout",
     "output_type": "stream",
     "text": [
      "train rmse 0.6221827671368378 test rmse 0.8799944624577466\n"
     ]
    },
    {
     "name": "stderr",
     "output_type": "stream",
     "text": [
      " 86%|████████████████████████████████████      | 86/100 [44:22<06:58, 29.92s/it]"
     ]
    },
    {
     "name": "stdout",
     "output_type": "stream",
     "text": [
      "train rmse 0.622169009843291 test rmse 0.8801327087313252\n"
     ]
    },
    {
     "name": "stderr",
     "output_type": "stream",
     "text": [
      " 87%|████████████████████████████████████▌     | 87/100 [44:51<06:28, 29.87s/it]"
     ]
    },
    {
     "name": "stdout",
     "output_type": "stream",
     "text": [
      "train rmse 0.6221556483298125 test rmse 0.8802682506782558\n"
     ]
    },
    {
     "name": "stderr",
     "output_type": "stream",
     "text": [
      " 88%|████████████████████████████████████▉     | 88/100 [45:21<05:57, 29.81s/it]"
     ]
    },
    {
     "name": "stdout",
     "output_type": "stream",
     "text": [
      "train rmse 0.6221426669024949 test rmse 0.8804011083213561\n"
     ]
    },
    {
     "name": "stderr",
     "output_type": "stream",
     "text": [
      " 89%|█████████████████████████████████████▍    | 89/100 [45:51<05:27, 29.76s/it]"
     ]
    },
    {
     "name": "stdout",
     "output_type": "stream",
     "text": [
      "train rmse 0.6221300518148648 test rmse 0.8805313055492938\n"
     ]
    },
    {
     "name": "stderr",
     "output_type": "stream",
     "text": [
      " 90%|█████████████████████████████████████▊    | 90/100 [46:20<04:57, 29.72s/it]"
     ]
    },
    {
     "name": "stdout",
     "output_type": "stream",
     "text": [
      "train rmse 0.6221177915626893 test rmse 0.8806588628525452\n"
     ]
    },
    {
     "name": "stderr",
     "output_type": "stream",
     "text": [
      " 91%|██████████████████████████████████████▏   | 91/100 [46:51<04:28, 29.87s/it]"
     ]
    },
    {
     "name": "stdout",
     "output_type": "stream",
     "text": [
      "train rmse 0.6221058752837786 test rmse 0.8807838070831476\n"
     ]
    },
    {
     "name": "stderr",
     "output_type": "stream",
     "text": [
      " 92%|██████████████████████████████████████▋   | 92/100 [47:21<03:59, 29.92s/it]"
     ]
    },
    {
     "name": "stdout",
     "output_type": "stream",
     "text": [
      "train rmse 0.6220942913056376 test rmse 0.8809061783525807\n"
     ]
    },
    {
     "name": "stderr",
     "output_type": "stream",
     "text": [
      " 93%|███████████████████████████████████████   | 93/100 [47:50<03:29, 29.91s/it]"
     ]
    },
    {
     "name": "stdout",
     "output_type": "stream",
     "text": [
      "train rmse 0.6220830270149121 test rmse 0.8810260258973696\n"
     ]
    },
    {
     "name": "stderr",
     "output_type": "stream",
     "text": [
      " 94%|███████████████████████████████████████▍  | 94/100 [48:20<02:59, 29.90s/it]"
     ]
    },
    {
     "name": "stdout",
     "output_type": "stream",
     "text": [
      "train rmse 0.622072069480879 test rmse 0.8811434013346656\n"
     ]
    },
    {
     "name": "stderr",
     "output_type": "stream",
     "text": [
      " 95%|███████████████████████████████████████▉  | 95/100 [48:50<02:29, 29.92s/it]"
     ]
    },
    {
     "name": "stdout",
     "output_type": "stream",
     "text": [
      "train rmse 0.6220614060772952 test rmse 0.8812583540627824\n"
     ]
    },
    {
     "name": "stderr",
     "output_type": "stream",
     "text": [
      " 96%|████████████████████████████████████████▎ | 96/100 [49:20<01:59, 29.93s/it]"
     ]
    },
    {
     "name": "stdout",
     "output_type": "stream",
     "text": [
      "train rmse 0.6220510247926543 test rmse 0.881370924498621\n"
     ]
    },
    {
     "name": "stderr",
     "output_type": "stream",
     "text": [
      " 97%|████████████████████████████████████████▋ | 97/100 [49:50<01:29, 29.89s/it]"
     ]
    },
    {
     "name": "stdout",
     "output_type": "stream",
     "text": [
      "train rmse 0.6220409140786775 test rmse 0.8814811368672593\n"
     ]
    },
    {
     "name": "stderr",
     "output_type": "stream",
     "text": [
      " 98%|█████████████████████████████████████████▏| 98/100 [50:20<00:59, 29.89s/it]"
     ]
    },
    {
     "name": "stdout",
     "output_type": "stream",
     "text": [
      "train rmse 0.6220310623643558 test rmse 0.8815890102806989\n"
     ]
    },
    {
     "name": "stderr",
     "output_type": "stream",
     "text": [
      " 99%|█████████████████████████████████████████▌| 99/100 [50:50<00:29, 29.86s/it]"
     ]
    },
    {
     "name": "stdout",
     "output_type": "stream",
     "text": [
      "train rmse 0.6220214579629707 test rmse 0.8816945909816125\n"
     ]
    },
    {
     "name": "stderr",
     "output_type": "stream",
     "text": [
      "100%|█████████████████████████████████████████| 100/100 [51:20<00:00, 30.80s/it]"
     ]
    },
    {
     "name": "stdout",
     "output_type": "stream",
     "text": [
      "train rmse 0.6220120903592188 test rmse 0.8817979496427889\n"
     ]
    },
    {
     "name": "stderr",
     "output_type": "stream",
     "text": [
      "\n"
     ]
    }
   ],
   "source": [
    "from tqdm import tqdm\n",
    "\n",
    "lam = 5\n",
    "gamm = 0.1\n",
    "tau = 1\n",
    "epochs = 100\n",
    "\n",
    "K = 20\n",
    "\n",
    "M = len(train_user_data)\n",
    "N = len(train_movie_data)\n",
    "\n",
    "user_biases_train = np.zeros((M))\n",
    "item_biases_train = np.zeros((N))\n",
    "user_factor_train = np.random.normal(loc=0, scale= 1/np.sqrt(K), size= (M,K))\n",
    "item_factor_train = np.random.normal(loc=0, scale= 1/np.sqrt(K), size= (N,K))\n",
    "\n",
    "losses_latent_train = []\n",
    "losses_latent_test = []\n",
    "rmse_latent_train = []\n",
    "rmse_latent_test = []\n",
    "\n",
    "\n",
    "for i in tqdm(range(epochs)):\n",
    "    for m in range(M):\n",
    "        # Extract ratings and indices for the current user\n",
    "        if len(train_user_data) > 0:\n",
    "            ratings = train_user_data[m][:, 1]\n",
    "            indices = train_user_data[m][:, 0].astype(int)\n",
    "            \n",
    "            # Calculate user bias\n",
    "            user_bias_train = lam * np.sum(ratings - np.einsum('i,ji->j', user_factor_train[m], item_factor_train[indices]) - item_biases_train[indices]) / (lam * len(indices) + gamm)\n",
    "            user_biases_train[m] = user_bias_train\n",
    "            \n",
    "            # Calculate left and right matrices for user factor update\n",
    "            left = np.sum(np.einsum('ij,il->ijl', item_factor_train[indices], item_factor_train[indices]), axis=0)\n",
    "            right = np.sum(np.einsum('ji,j->ji', item_factor_train[indices], ratings - user_bias_train - item_biases_train[indices]), axis=0)\n",
    "            \n",
    "            # Update user factor\n",
    "            user_factor_train[m] = np.linalg.solve(lam * left + tau * np.eye(K), lam * right)\n",
    "\n",
    "    for n in range(N):\n",
    "        # Extract ratings and indices for the current item\n",
    "        if len(train_movie_data[n]) > 0:\n",
    "            ratings = train_movie_data[n][:, 1]\n",
    "            indices = train_movie_data[n][:, 0].astype(int)\n",
    "            \n",
    "            # Calculate item bias\n",
    "            item_bias_train = lam * np.sum(ratings - np.einsum('ij,j->i', user_factor_train[indices], item_factor_train[n]) - user_biases_train[indices]) / (lam * len(indices) + gamm)\n",
    "            item_biases_train[n] = item_bias_train\n",
    "            \n",
    "            # Calculate left and right matrices for item factor update\n",
    "            left = np.sum(np.einsum('ij,il->ijl', user_factor_train[indices], user_factor_train[indices]), axis=0)\n",
    "            right = np.sum(np.einsum('ji,j->ji', user_factor_train[indices], ratings - user_biases_train[indices] - item_bias_train), axis=0)\n",
    "            \n",
    "            # Update item factor\n",
    "            item_factor_train[n] = np.linalg.solve(lam * left + tau * np.eye(K), lam * right)\n",
    "\n",
    "    # Calculate training loss and RMSE\n",
    "    train_error_squared = 0\n",
    "    train_size = 0\n",
    "    test_error_squared = 0\n",
    "    test_size = 0\n",
    "    \n",
    "    for m in range(M):\n",
    "        if len(train_user_data[m]) > 0:\n",
    "            train_ratings = train_user_data[m][:, 1]\n",
    "            train_indices = train_user_data[m][:, 0].astype(int)\n",
    "            train_error_squared += np.sum((train_ratings - np.einsum('i,ji->j', user_factor_train[m], item_factor_train[train_indices]) - user_biases_train[m] - item_biases_train[train_indices])**2)\n",
    "            train_size += len(train_indices)\n",
    "            \n",
    "        if len(test_user_data[m]) > 0:\n",
    "            test_ratings = test_user_data[m][:, 1]\n",
    "            test_indices = test_user_data[m][:, 0].astype(int)\n",
    "            test_error_squared += np.sum((test_ratings - np.einsum('i,ji->j', user_factor_train[m], item_factor_train[test_indices]) - user_biases_train[m] - item_biases_train[test_indices])**2)\n",
    "            test_size += len(test_indices)\n",
    "        \n",
    "    train_loss = -0.5 * lam * train_error_squared - 0.5 * gamm * np.sum(user_biases_train**2) - 0.5 * gamm * np.sum(item_biases_train**2) - 0.5 * tau * (np.einsum('ij,ij->', item_factor_train, item_factor_train) + np.einsum('ij,ij->', user_factor_train, user_factor_train))\n",
    "    train_rmse = np.sqrt(1 / train_size * train_error_squared)\n",
    "    \n",
    "    losses_latent_train.append(train_loss)\n",
    "    rmse_latent_train.append(train_rmse)\n",
    "\n",
    "    test_loss = -0.5 * lam * test_error_squared - 0.5 * gamm * np.sum(user_biases_train**2) - 0.5 * gamm * np.sum(item_biases_train**2) - 0.5 * tau * (np.einsum('ij, ij->', item_factor_train, item_factor_train) + np.einsum('ij, ij->', user_factor_train, user_factor_train))\n",
    "    test_rmse = np.sqrt(1/test_size * test_error_squared)\n",
    "    \n",
    "    losses_latent_test.append(test_loss)\n",
    "    rmse_latent_test.append(test_rmse)\n",
    "        \n",
    "    print(f'train rmse {train_rmse} test rmse {test_rmse}')"
   ]
  },
  {
   "cell_type": "code",
   "execution_count": 33,
   "metadata": {},
   "outputs": [],
   "source": [
    "from tqdm import tqdm\n",
    "\n",
    "lam = 5\n",
    "gamm = 0.1\n",
    "tau = 1\n",
    "epochs = 100\n",
    "\n",
    "K = 10\n",
    "\n",
    "M = len(train_user_data)\n",
    "N = len(train_movie_data)\n",
    "\n",
    "user_biases_train = np.zeros((M))\n",
    "item_biases_train = np.zeros((N))\n",
    "user_factor_train = np.random.normal(loc=0, scale= 1/np.sqrt(K), size= (M,K))\n",
    "item_factor_train = np.random.normal(loc=0, scale= 1/np.sqrt(K), size= (N,K))\n",
    "\n",
    "losses_latent_train = []\n",
    "losses_latent_test = []\n",
    "rmse_latent_train = []\n",
    "rmse_latent_test = []\n",
    "\n",
    "\n",
    "for i in tqdm(range(epochs)):\n",
    "    for m in range(M):\n",
    "        # Extract ratings and indices for the current user\n",
    "        if len(train_user_data) > 0:\n",
    "            ratings = train_user_data[m][:, 1]\n",
    "            indices = train_user_data[m][:, 0].astype(int)\n",
    "            \n",
    "            # Calculate user bias\n",
    "            user_bias_train = lam * np.sum(ratings - np.einsum('i,ji->j', user_factor_train[m], item_factor_train[indices]) - item_biases_train[indices]) / (lam * len(indices) + gamm)\n",
    "            user_biases_train[m] = user_bias_train\n",
    "            \n",
    "            # Calculate left and right matrices for user factor update\n",
    "            left = np.sum(np.einsum('ij,il->ijl', item_factor_train[indices], item_factor_train[indices]), axis=0)\n",
    "            right = np.sum(np.einsum('ji,j->ji', item_factor_train[indices], ratings - user_bias_train - item_biases_train[indices]), axis=0)\n",
    "            \n",
    "            # Update user factor\n",
    "            user_factor_train[m] = np.linalg.solve(lam * left + tau * np.eye(K), lam * right)\n",
    "\n",
    "    for n in range(N):\n",
    "        # Extract ratings and indices for the current item\n",
    "        if len(train_movie_data[n]) > 0:\n",
    "            ratings = train_movie_data[n][:, 1]\n",
    "            indices = train_movie_data[n][:, 0].astype(int)\n",
    "            \n",
    "            # Calculate item bias\n",
    "            item_bias_train = lam * np.sum(ratings - np.einsum('ij,j->i', user_factor_train[indices], item_factor_train[n]) - user_biases_train[indices]) / (lam * len(indices) + gamm)\n",
    "            item_biases_train[n] = item_bias_train\n",
    "            \n",
    "            # Calculate left and right matrices for item factor update\n",
    "            left = np.sum(np.einsum('ij,il->ijl', user_factor_train[indices], user_factor_train[indices]), axis=0)\n",
    "            right = np.sum(np.einsum('ji,j->ji', user_factor_train[indices], ratings - user_biases_train[indices] - item_bias_train), axis=0)\n",
    "            \n",
    "            # Update item factor\n",
    "            item_factor_train[n] = np.linalg.solve(lam * left + tau * np.eye(K), lam * right)\n",
    "\n",
    "    # Calculate training loss and RMSE\n",
    "    train_error_squared = 0\n",
    "    train_size = 0\n",
    "    test_error_squared = 0\n",
    "    test_size = 0\n",
    "    \n",
    "    for m in range(M):\n",
    "        if len(train_user_data[m]) > 0:\n",
    "            train_ratings = train_user_data[m][:, 1]\n",
    "            train_indices = train_user_data[m][:, 0].astype(int)\n",
    "            train_error_squared += np.sum((train_ratings - np.einsum('i,ji->j', user_factor_train[m], item_factor_train[train_indices]) - user_biases_train[m] - item_biases_train[train_indices])**2)\n",
    "            train_size += len(train_indices)\n",
    "            \n",
    "        if len(test_user_data[m]) > 0:\n",
    "            test_ratings = test_user_data[m][:, 1]\n",
    "            test_indices = test_user_data[m][:, 0].astype(int)\n",
    "            test_error_squared += np.sum((test_ratings - np.einsum('i,ji->j', user_factor_train[m], item_factor_train[test_indices]) - user_biases_train[m] - item_biases_train[test_indices])**2)\n",
    "            test_size += len(test_indices)\n",
    "        \n",
    "    train_loss = -0.5 * lam * train_error_squared - 0.5 * gamm * np.sum(user_biases_train**2) - 0.5 * gamm * np.sum(item_biases_train**2) - 0.5 * tau * (np.einsum('ij,ij->', item_factor_train, item_factor_train) + np.einsum('ij,ij->', user_factor_train, user_factor_train))\n",
    "    train_rmse = np.sqrt(1 / train_size * train_error_squared)\n",
    "    \n",
    "    losses_latent_train.append(train_loss)\n",
    "    rmse_latent_train.append(train_rmse)\n",
    "\n",
    "    test_loss = -0.5 * lam * test_error_squared - 0.5 * gamm * np.sum(user_biases_train**2) - 0.5 * gamm * np.sum(item_biases_train**2) - 0.5 * tau * (np.einsum('ij, ij->', item_factor_train, item_factor_train) + np.einsum('ij, ij->', user_factor_train, user_factor_train))\n",
    "    test_rmse = np.sqrt(1/test_size * test_error_squared)\n",
    "    \n",
    "    losses_latent_test.append(test_loss)\n",
    "    rmse_latent_test.append(test_rmse)\n",
    "        \n",
    "    print(f'train rmse {train_rmse} test rmse {test_rmse}')"
   ]
  },
  {
   "cell_type": "code",
   "execution_count": 50,
   "metadata": {
    "scrolled": true
   },
   "outputs": [
    {
     "name": "stderr",
     "output_type": "stream",
     "text": [
      "  1%|▍                                          | 1/100 [00:20<33:28, 20.29s/it]"
     ]
    },
    {
     "name": "stdout",
     "output_type": "stream",
     "text": [
      "train rmse 0.8581985947042043 test rmse 0.8880011928655044\n"
     ]
    },
    {
     "name": "stderr",
     "output_type": "stream",
     "text": [
      "  2%|▊                                          | 2/100 [00:40<33:23, 20.44s/it]"
     ]
    },
    {
     "name": "stdout",
     "output_type": "stream",
     "text": [
      "train rmse 0.8338050681445862 test rmse 0.8689409207219445\n"
     ]
    },
    {
     "name": "stderr",
     "output_type": "stream",
     "text": [
      "  3%|█▎                                         | 3/100 [01:01<33:14, 20.56s/it]"
     ]
    },
    {
     "name": "stdout",
     "output_type": "stream",
     "text": [
      "train rmse 0.8202863755225175 test rmse 0.855729413565644\n"
     ]
    },
    {
     "name": "stderr",
     "output_type": "stream",
     "text": [
      "  4%|█▋                                         | 4/100 [01:24<34:22, 21.49s/it]"
     ]
    },
    {
     "name": "stdout",
     "output_type": "stream",
     "text": [
      "train rmse 0.804637946784397 test rmse 0.8392202575019938\n"
     ]
    },
    {
     "name": "stderr",
     "output_type": "stream",
     "text": [
      "  5%|██▏                                        | 5/100 [01:47<34:44, 21.95s/it]"
     ]
    },
    {
     "name": "stdout",
     "output_type": "stream",
     "text": [
      "train rmse 0.7954951845479605 test rmse 0.8297071105352277\n"
     ]
    },
    {
     "name": "stderr",
     "output_type": "stream",
     "text": [
      "  6%|██▌                                        | 6/100 [02:08<34:06, 21.77s/it]"
     ]
    },
    {
     "name": "stdout",
     "output_type": "stream",
     "text": [
      "train rmse 0.7913763792217365 test rmse 0.8254473743602522\n"
     ]
    },
    {
     "name": "stderr",
     "output_type": "stream",
     "text": [
      "  7%|███                                        | 7/100 [02:29<33:10, 21.40s/it]"
     ]
    },
    {
     "name": "stdout",
     "output_type": "stream",
     "text": [
      "train rmse 0.7894839543045163 test rmse 0.8235283699669197\n"
     ]
    },
    {
     "name": "stderr",
     "output_type": "stream",
     "text": [
      "  8%|███▍                                       | 8/100 [02:49<32:26, 21.16s/it]"
     ]
    },
    {
     "name": "stdout",
     "output_type": "stream",
     "text": [
      "train rmse 0.7885236906786854 test rmse 0.8225866076660898\n"
     ]
    },
    {
     "name": "stderr",
     "output_type": "stream",
     "text": [
      "  9%|███▊                                       | 9/100 [03:10<31:46, 20.95s/it]"
     ]
    },
    {
     "name": "stdout",
     "output_type": "stream",
     "text": [
      "train rmse 0.7879882440086025 test rmse 0.8220785733168553\n"
     ]
    },
    {
     "name": "stderr",
     "output_type": "stream",
     "text": [
      " 10%|████▏                                     | 10/100 [03:31<31:26, 20.97s/it]"
     ]
    },
    {
     "name": "stdout",
     "output_type": "stream",
     "text": [
      "train rmse 0.7876623967936661 test rmse 0.8217802926074137\n"
     ]
    },
    {
     "name": "stderr",
     "output_type": "stream",
     "text": [
      " 11%|████▌                                     | 11/100 [03:52<31:02, 20.93s/it]"
     ]
    },
    {
     "name": "stdout",
     "output_type": "stream",
     "text": [
      "train rmse 0.7874477595837179 test rmse 0.8215930557308101\n"
     ]
    },
    {
     "name": "stderr",
     "output_type": "stream",
     "text": [
      " 12%|█████                                     | 12/100 [04:13<30:39, 20.90s/it]"
     ]
    },
    {
     "name": "stdout",
     "output_type": "stream",
     "text": [
      "train rmse 0.7872970840378101 test rmse 0.821468494173753\n"
     ]
    },
    {
     "name": "stderr",
     "output_type": "stream",
     "text": [
      " 13%|█████▍                                    | 13/100 [04:33<30:06, 20.77s/it]"
     ]
    },
    {
     "name": "stdout",
     "output_type": "stream",
     "text": [
      "train rmse 0.7871860552221671 test rmse 0.8213800613944644\n"
     ]
    },
    {
     "name": "stderr",
     "output_type": "stream",
     "text": [
      " 14%|█████▉                                    | 14/100 [04:53<29:33, 20.62s/it]"
     ]
    },
    {
     "name": "stdout",
     "output_type": "stream",
     "text": [
      "train rmse 0.7871004294966756 test rmse 0.8213137475662363\n"
     ]
    },
    {
     "name": "stderr",
     "output_type": "stream",
     "text": [
      " 15%|██████▎                                   | 15/100 [05:14<29:04, 20.52s/it]"
     ]
    },
    {
     "name": "stdout",
     "output_type": "stream",
     "text": [
      "train rmse 0.7870309842463695 test rmse 0.8212619244646255\n"
     ]
    },
    {
     "name": "stderr",
     "output_type": "stream",
     "text": [
      " 16%|██████▋                                   | 16/100 [05:34<28:37, 20.45s/it]"
     ]
    },
    {
     "name": "stdout",
     "output_type": "stream",
     "text": [
      "train rmse 0.7869712014478495 test rmse 0.8212206960243755\n"
     ]
    },
    {
     "name": "stderr",
     "output_type": "stream",
     "text": [
      " 17%|███████▏                                  | 17/100 [05:54<28:19, 20.47s/it]"
     ]
    },
    {
     "name": "stdout",
     "output_type": "stream",
     "text": [
      "train rmse 0.7869167694904998 test rmse 0.8211886768820754\n"
     ]
    },
    {
     "name": "stderr",
     "output_type": "stream",
     "text": [
      " 18%|███████▌                                  | 18/100 [06:15<27:52, 20.40s/it]"
     ]
    },
    {
     "name": "stdout",
     "output_type": "stream",
     "text": [
      "train rmse 0.7868676431797001 test rmse 0.8211653458658531\n"
     ]
    },
    {
     "name": "stderr",
     "output_type": "stream",
     "text": [
      " 19%|███████▉                                  | 19/100 [06:35<27:23, 20.29s/it]"
     ]
    },
    {
     "name": "stdout",
     "output_type": "stream",
     "text": [
      "train rmse 0.7868255989918516 test rmse 0.821148780777058\n"
     ]
    },
    {
     "name": "stderr",
     "output_type": "stream",
     "text": [
      " 20%|████████▍                                 | 20/100 [06:55<26:58, 20.23s/it]"
     ]
    },
    {
     "name": "stdout",
     "output_type": "stream",
     "text": [
      "train rmse 0.7867898473691748 test rmse 0.8211361386220094\n"
     ]
    },
    {
     "name": "stderr",
     "output_type": "stream",
     "text": [
      " 21%|████████▊                                 | 21/100 [07:15<26:37, 20.22s/it]"
     ]
    },
    {
     "name": "stdout",
     "output_type": "stream",
     "text": [
      "train rmse 0.7867585976312002 test rmse 0.8211253073097725\n"
     ]
    },
    {
     "name": "stderr",
     "output_type": "stream",
     "text": [
      " 22%|█████████▏                                | 22/100 [07:35<26:19, 20.25s/it]"
     ]
    },
    {
     "name": "stdout",
     "output_type": "stream",
     "text": [
      "train rmse 0.7867298393136187 test rmse 0.8211145622492914\n"
     ]
    },
    {
     "name": "stderr",
     "output_type": "stream",
     "text": [
      " 23%|█████████▋                                | 23/100 [07:56<26:04, 20.32s/it]"
     ]
    },
    {
     "name": "stdout",
     "output_type": "stream",
     "text": [
      "train rmse 0.7867041687799375 test rmse 0.8211036258563382\n"
     ]
    },
    {
     "name": "stderr",
     "output_type": "stream",
     "text": [
      " 24%|██████████                                | 24/100 [08:16<25:38, 20.24s/it]"
     ]
    },
    {
     "name": "stdout",
     "output_type": "stream",
     "text": [
      "train rmse 0.7866818401180256 test rmse 0.8210950868100395\n"
     ]
    },
    {
     "name": "stderr",
     "output_type": "stream",
     "text": [
      " 25%|██████████▌                               | 25/100 [08:37<25:27, 20.37s/it]"
     ]
    },
    {
     "name": "stdout",
     "output_type": "stream",
     "text": [
      "train rmse 0.7866623679085647 test rmse 0.82108858949478\n"
     ]
    },
    {
     "name": "stderr",
     "output_type": "stream",
     "text": [
      " 26%|██████████▉                               | 26/100 [08:57<25:13, 20.45s/it]"
     ]
    },
    {
     "name": "stdout",
     "output_type": "stream",
     "text": [
      "train rmse 0.7866451559130894 test rmse 0.8210831217301472\n"
     ]
    },
    {
     "name": "stderr",
     "output_type": "stream",
     "text": [
      " 27%|███████████▎                              | 27/100 [09:18<24:57, 20.51s/it]"
     ]
    },
    {
     "name": "stdout",
     "output_type": "stream",
     "text": [
      "train rmse 0.7866297896214459 test rmse 0.8210781730200253\n"
     ]
    },
    {
     "name": "stderr",
     "output_type": "stream",
     "text": [
      " 28%|███████████▊                              | 28/100 [09:38<24:38, 20.53s/it]"
     ]
    },
    {
     "name": "stdout",
     "output_type": "stream",
     "text": [
      "train rmse 0.7866159094661364 test rmse 0.8210736702590625\n"
     ]
    },
    {
     "name": "stderr",
     "output_type": "stream",
     "text": [
      " 29%|████████████▏                             | 29/100 [09:59<24:18, 20.54s/it]"
     ]
    },
    {
     "name": "stdout",
     "output_type": "stream",
     "text": [
      "train rmse 0.7866033021983084 test rmse 0.8210694126964901\n"
     ]
    },
    {
     "name": "stderr",
     "output_type": "stream",
     "text": [
      " 30%|████████████▌                             | 30/100 [10:20<24:02, 20.61s/it]"
     ]
    },
    {
     "name": "stdout",
     "output_type": "stream",
     "text": [
      "train rmse 0.7865918757826724 test rmse 0.8210650724947601\n"
     ]
    },
    {
     "name": "stderr",
     "output_type": "stream",
     "text": [
      " 31%|█████████████                             | 31/100 [10:40<23:41, 20.59s/it]"
     ]
    },
    {
     "name": "stdout",
     "output_type": "stream",
     "text": [
      "train rmse 0.7865813693075971 test rmse 0.8210607768886484\n"
     ]
    },
    {
     "name": "stderr",
     "output_type": "stream",
     "text": [
      " 32%|█████████████▍                            | 32/100 [11:01<23:23, 20.63s/it]"
     ]
    },
    {
     "name": "stdout",
     "output_type": "stream",
     "text": [
      "train rmse 0.7865716513710308 test rmse 0.8210567832336404\n"
     ]
    },
    {
     "name": "stderr",
     "output_type": "stream",
     "text": [
      " 33%|█████████████▊                            | 33/100 [11:22<23:12, 20.78s/it]"
     ]
    },
    {
     "name": "stdout",
     "output_type": "stream",
     "text": [
      "train rmse 0.7865626479290531 test rmse 0.8210535248396039\n"
     ]
    },
    {
     "name": "stderr",
     "output_type": "stream",
     "text": [
      " 34%|██████████████▎                           | 34/100 [11:42<22:41, 20.63s/it]"
     ]
    },
    {
     "name": "stdout",
     "output_type": "stream",
     "text": [
      "train rmse 0.7865540853391222 test rmse 0.8210511067221998\n"
     ]
    },
    {
     "name": "stderr",
     "output_type": "stream",
     "text": [
      " 35%|██████████████▋                           | 35/100 [12:02<22:10, 20.46s/it]"
     ]
    },
    {
     "name": "stdout",
     "output_type": "stream",
     "text": [
      "train rmse 0.7865461159459113 test rmse 0.8210487220164827\n"
     ]
    },
    {
     "name": "stderr",
     "output_type": "stream",
     "text": [
      " 36%|███████████████                           | 36/100 [12:23<21:41, 20.34s/it]"
     ]
    },
    {
     "name": "stdout",
     "output_type": "stream",
     "text": [
      "train rmse 0.7865388692997068 test rmse 0.821046239895274\n"
     ]
    },
    {
     "name": "stderr",
     "output_type": "stream",
     "text": [
      " 37%|███████████████▌                          | 37/100 [12:43<21:17, 20.27s/it]"
     ]
    },
    {
     "name": "stdout",
     "output_type": "stream",
     "text": [
      "train rmse 0.7865322529447628 test rmse 0.8210437443847759\n"
     ]
    },
    {
     "name": "stderr",
     "output_type": "stream",
     "text": [
      " 38%|███████████████▉                          | 38/100 [13:03<20:53, 20.21s/it]"
     ]
    },
    {
     "name": "stdout",
     "output_type": "stream",
     "text": [
      "train rmse 0.7865261932026224 test rmse 0.821041250336512\n"
     ]
    },
    {
     "name": "stderr",
     "output_type": "stream",
     "text": [
      " 39%|████████████████▍                         | 39/100 [13:23<20:31, 20.19s/it]"
     ]
    },
    {
     "name": "stdout",
     "output_type": "stream",
     "text": [
      "train rmse 0.7865205833166401 test rmse 0.8210387334289936\n"
     ]
    },
    {
     "name": "stderr",
     "output_type": "stream",
     "text": [
      " 40%|████████████████▊                         | 40/100 [13:43<20:18, 20.30s/it]"
     ]
    },
    {
     "name": "stdout",
     "output_type": "stream",
     "text": [
      "train rmse 0.7865152986982404 test rmse 0.8210361244956853\n"
     ]
    },
    {
     "name": "stderr",
     "output_type": "stream",
     "text": [
      " 41%|█████████████████▏                        | 41/100 [14:04<20:09, 20.50s/it]"
     ]
    },
    {
     "name": "stdout",
     "output_type": "stream",
     "text": [
      "train rmse 0.7865098810122383 test rmse 0.8210334141162272\n"
     ]
    },
    {
     "name": "stderr",
     "output_type": "stream",
     "text": [
      " 42%|█████████████████▋                        | 42/100 [14:25<19:50, 20.53s/it]"
     ]
    },
    {
     "name": "stdout",
     "output_type": "stream",
     "text": [
      "train rmse 0.7865034039575814 test rmse 0.8210337982406408\n"
     ]
    },
    {
     "name": "stderr",
     "output_type": "stream",
     "text": [
      " 43%|██████████████████                        | 43/100 [14:46<19:35, 20.63s/it]"
     ]
    },
    {
     "name": "stdout",
     "output_type": "stream",
     "text": [
      "train rmse 0.7864985793816508 test rmse 0.8210334129693291\n"
     ]
    },
    {
     "name": "stderr",
     "output_type": "stream",
     "text": [
      " 44%|██████████████████▍                       | 44/100 [15:06<19:15, 20.63s/it]"
     ]
    },
    {
     "name": "stdout",
     "output_type": "stream",
     "text": [
      "train rmse 0.7864943326218189 test rmse 0.8210326417879492\n"
     ]
    },
    {
     "name": "stderr",
     "output_type": "stream",
     "text": [
      " 45%|██████████████████▉                       | 45/100 [15:27<18:59, 20.71s/it]"
     ]
    },
    {
     "name": "stdout",
     "output_type": "stream",
     "text": [
      "train rmse 0.7864903691834498 test rmse 0.8210323136624122\n"
     ]
    },
    {
     "name": "stderr",
     "output_type": "stream",
     "text": [
      " 46%|███████████████████▎                      | 46/100 [15:48<18:37, 20.70s/it]"
     ]
    },
    {
     "name": "stdout",
     "output_type": "stream",
     "text": [
      "train rmse 0.7864866398169503 test rmse 0.8210324258329249\n"
     ]
    },
    {
     "name": "stderr",
     "output_type": "stream",
     "text": [
      " 47%|███████████████████▋                      | 47/100 [16:09<18:24, 20.84s/it]"
     ]
    },
    {
     "name": "stdout",
     "output_type": "stream",
     "text": [
      "train rmse 0.7864831021918948 test rmse 0.8210324887168335\n"
     ]
    },
    {
     "name": "stderr",
     "output_type": "stream",
     "text": [
      " 48%|████████████████████▏                     | 48/100 [16:30<18:10, 20.96s/it]"
     ]
    },
    {
     "name": "stdout",
     "output_type": "stream",
     "text": [
      "train rmse 0.7864797520837545 test rmse 0.8210320234853246\n"
     ]
    },
    {
     "name": "stderr",
     "output_type": "stream",
     "text": [
      " 49%|████████████████████▌                     | 49/100 [16:52<17:51, 21.01s/it]"
     ]
    },
    {
     "name": "stdout",
     "output_type": "stream",
     "text": [
      "train rmse 0.7864765690542913 test rmse 0.8210313186138672\n"
     ]
    },
    {
     "name": "stderr",
     "output_type": "stream",
     "text": [
      " 50%|█████████████████████                     | 50/100 [17:13<17:41, 21.23s/it]"
     ]
    },
    {
     "name": "stdout",
     "output_type": "stream",
     "text": [
      "train rmse 0.7864736233234116 test rmse 0.8210306870612308\n"
     ]
    },
    {
     "name": "stderr",
     "output_type": "stream",
     "text": [
      " 51%|█████████████████████▍                    | 51/100 [17:35<17:22, 21.27s/it]"
     ]
    },
    {
     "name": "stdout",
     "output_type": "stream",
     "text": [
      "train rmse 0.7864708871041647 test rmse 0.8210303813805129\n"
     ]
    },
    {
     "name": "stderr",
     "output_type": "stream",
     "text": [
      " 52%|█████████████████████▊                    | 52/100 [17:56<16:58, 21.22s/it]"
     ]
    },
    {
     "name": "stdout",
     "output_type": "stream",
     "text": [
      "train rmse 0.7864683028767899 test rmse 0.8210302613327214\n"
     ]
    },
    {
     "name": "stderr",
     "output_type": "stream",
     "text": [
      " 53%|██████████████████████▎                   | 53/100 [18:17<16:33, 21.14s/it]"
     ]
    },
    {
     "name": "stdout",
     "output_type": "stream",
     "text": [
      "train rmse 0.7864658543550679 test rmse 0.8210301182231519\n"
     ]
    },
    {
     "name": "stderr",
     "output_type": "stream",
     "text": [
      " 54%|██████████████████████▋                   | 54/100 [18:38<16:10, 21.09s/it]"
     ]
    },
    {
     "name": "stdout",
     "output_type": "stream",
     "text": [
      "train rmse 0.7864635247351472 test rmse 0.8210298921805026\n"
     ]
    },
    {
     "name": "stderr",
     "output_type": "stream",
     "text": [
      " 55%|███████████████████████                   | 55/100 [18:59<15:51, 21.15s/it]"
     ]
    },
    {
     "name": "stdout",
     "output_type": "stream",
     "text": [
      "train rmse 0.7864612791367801 test rmse 0.8210296337882174\n"
     ]
    },
    {
     "name": "stderr",
     "output_type": "stream",
     "text": [
      " 56%|███████████████████████▌                  | 56/100 [19:21<15:39, 21.36s/it]"
     ]
    },
    {
     "name": "stdout",
     "output_type": "stream",
     "text": [
      "train rmse 0.7864590673684797 test rmse 0.8210294030052985\n"
     ]
    },
    {
     "name": "stderr",
     "output_type": "stream",
     "text": [
      " 57%|███████████████████████▉                  | 57/100 [19:42<15:18, 21.36s/it]"
     ]
    },
    {
     "name": "stdout",
     "output_type": "stream",
     "text": [
      "train rmse 0.7864569449381429 test rmse 0.8210293484800356\n"
     ]
    },
    {
     "name": "stderr",
     "output_type": "stream",
     "text": [
      " 58%|████████████████████████▎                 | 58/100 [20:03<14:54, 21.29s/it]"
     ]
    },
    {
     "name": "stdout",
     "output_type": "stream",
     "text": [
      "train rmse 0.786454962663386 test rmse 0.8210295407693201\n"
     ]
    },
    {
     "name": "stderr",
     "output_type": "stream",
     "text": [
      " 59%|████████████████████████▊                 | 59/100 [20:25<14:33, 21.30s/it]"
     ]
    },
    {
     "name": "stdout",
     "output_type": "stream",
     "text": [
      "train rmse 0.7864530976065826 test rmse 0.8210298748441667\n"
     ]
    },
    {
     "name": "stderr",
     "output_type": "stream",
     "text": [
      " 60%|█████████████████████████▏                | 60/100 [20:46<14:13, 21.34s/it]"
     ]
    },
    {
     "name": "stdout",
     "output_type": "stream",
     "text": [
      "train rmse 0.7864513286646732 test rmse 0.8210302997695308\n"
     ]
    },
    {
     "name": "stderr",
     "output_type": "stream",
     "text": [
      " 61%|█████████████████████████▌                | 61/100 [21:08<13:54, 21.40s/it]"
     ]
    },
    {
     "name": "stdout",
     "output_type": "stream",
     "text": [
      "train rmse 0.7864496380576717 test rmse 0.8210307848119487\n"
     ]
    },
    {
     "name": "stderr",
     "output_type": "stream",
     "text": [
      " 62%|██████████████████████████                | 62/100 [21:29<13:36, 21.47s/it]"
     ]
    },
    {
     "name": "stdout",
     "output_type": "stream",
     "text": [
      "train rmse 0.7864480108933349 test rmse 0.8210313169778504\n"
     ]
    },
    {
     "name": "stderr",
     "output_type": "stream",
     "text": [
      " 63%|██████████████████████████▍               | 63/100 [21:51<13:16, 21.51s/it]"
     ]
    },
    {
     "name": "stdout",
     "output_type": "stream",
     "text": [
      "train rmse 0.78644643322023 test rmse 0.8210318957190189\n"
     ]
    },
    {
     "name": "stderr",
     "output_type": "stream",
     "text": [
      " 64%|██████████████████████████▉               | 64/100 [22:13<12:56, 21.58s/it]"
     ]
    },
    {
     "name": "stdout",
     "output_type": "stream",
     "text": [
      "train rmse 0.7864448931329523 test rmse 0.8210325187186084\n"
     ]
    },
    {
     "name": "stderr",
     "output_type": "stream",
     "text": [
      " 65%|███████████████████████████▎              | 65/100 [22:34<12:29, 21.41s/it]"
     ]
    },
    {
     "name": "stdout",
     "output_type": "stream",
     "text": [
      "train rmse 0.7864433981290242 test rmse 0.8210331531144688\n"
     ]
    },
    {
     "name": "stderr",
     "output_type": "stream",
     "text": [
      " 66%|███████████████████████████▋              | 66/100 [22:55<12:03, 21.27s/it]"
     ]
    },
    {
     "name": "stdout",
     "output_type": "stream",
     "text": [
      "train rmse 0.7864419559783395 test rmse 0.8210337895741099\n"
     ]
    },
    {
     "name": "stderr",
     "output_type": "stream",
     "text": [
      " 67%|████████████████████████████▏             | 67/100 [23:16<11:39, 21.21s/it]"
     ]
    },
    {
     "name": "stdout",
     "output_type": "stream",
     "text": [
      "train rmse 0.7864405574114693 test rmse 0.8210344219322151\n"
     ]
    },
    {
     "name": "stderr",
     "output_type": "stream",
     "text": [
      " 68%|████████████████████████████▌             | 68/100 [23:37<11:17, 21.18s/it]"
     ]
    },
    {
     "name": "stdout",
     "output_type": "stream",
     "text": [
      "train rmse 0.786439196546641 test rmse 0.8210350366814508\n"
     ]
    },
    {
     "name": "stderr",
     "output_type": "stream",
     "text": [
      " 69%|████████████████████████████▉             | 69/100 [23:59<11:03, 21.40s/it]"
     ]
    },
    {
     "name": "stdout",
     "output_type": "stream",
     "text": [
      "train rmse 0.7864378707651595 test rmse 0.8210356260761587\n"
     ]
    },
    {
     "name": "stderr",
     "output_type": "stream",
     "text": [
      " 70%|█████████████████████████████▍            | 70/100 [24:20<10:43, 21.44s/it]"
     ]
    },
    {
     "name": "stdout",
     "output_type": "stream",
     "text": [
      "train rmse 0.7864365779724041 test rmse 0.8210361893197576\n"
     ]
    },
    {
     "name": "stderr",
     "output_type": "stream",
     "text": [
      " 71%|█████████████████████████████▊            | 71/100 [24:41<10:18, 21.31s/it]"
     ]
    },
    {
     "name": "stdout",
     "output_type": "stream",
     "text": [
      "train rmse 0.786435316078064 test rmse 0.8210367314369852\n"
     ]
    },
    {
     "name": "stderr",
     "output_type": "stream",
     "text": [
      " 72%|██████████████████████████████▏           | 72/100 [25:03<09:58, 21.39s/it]"
     ]
    },
    {
     "name": "stdout",
     "output_type": "stream",
     "text": [
      "train rmse 0.7864340830953683 test rmse 0.8210372595365253\n"
     ]
    },
    {
     "name": "stderr",
     "output_type": "stream",
     "text": [
      " 73%|██████████████████████████████▋           | 73/100 [25:24<09:32, 21.20s/it]"
     ]
    },
    {
     "name": "stdout",
     "output_type": "stream",
     "text": [
      "train rmse 0.7864328772251218 test rmse 0.8210377802608081\n"
     ]
    },
    {
     "name": "stderr",
     "output_type": "stream",
     "text": [
      " 74%|███████████████████████████████           | 74/100 [25:45<09:12, 21.23s/it]"
     ]
    },
    {
     "name": "stdout",
     "output_type": "stream",
     "text": [
      "train rmse 0.7864316968814357 test rmse 0.8210382988207237\n"
     ]
    },
    {
     "name": "stderr",
     "output_type": "stream",
     "text": [
      " 75%|███████████████████████████████▌          | 75/100 [26:06<08:50, 21.22s/it]"
     ]
    },
    {
     "name": "stdout",
     "output_type": "stream",
     "text": [
      "train rmse 0.7864305407019283 test rmse 0.821038818661184\n"
     ]
    },
    {
     "name": "stderr",
     "output_type": "stream",
     "text": [
      " 76%|███████████████████████████████▉          | 76/100 [26:27<08:27, 21.13s/it]"
     ]
    },
    {
     "name": "stdout",
     "output_type": "stream",
     "text": [
      "train rmse 0.7864294075590256 test rmse 0.8210393411627186\n"
     ]
    },
    {
     "name": "stderr",
     "output_type": "stream",
     "text": [
      " 77%|████████████████████████████████▎         | 77/100 [26:48<08:04, 21.08s/it]"
     ]
    },
    {
     "name": "stdout",
     "output_type": "stream",
     "text": [
      "train rmse 0.7864282965791198 test rmse 0.8210398653606247\n"
     ]
    },
    {
     "name": "stderr",
     "output_type": "stream",
     "text": [
      " 78%|████████████████████████████████▊         | 78/100 [27:09<07:45, 21.15s/it]"
     ]
    },
    {
     "name": "stdout",
     "output_type": "stream",
     "text": [
      "train rmse 0.7864272071640422 test rmse 0.8210403880912349\n"
     ]
    },
    {
     "name": "stderr",
     "output_type": "stream",
     "text": [
      " 79%|█████████████████████████████████▏        | 79/100 [27:30<07:24, 21.18s/it]"
     ]
    },
    {
     "name": "stdout",
     "output_type": "stream",
     "text": [
      "train rmse 0.7864261389719509 test rmse 0.821040904976963\n"
     ]
    },
    {
     "name": "stderr",
     "output_type": "stream",
     "text": [
      " 80%|█████████████████████████████████▌        | 80/100 [27:52<07:04, 21.25s/it]"
     ]
    },
    {
     "name": "stdout",
     "output_type": "stream",
     "text": [
      "train rmse 0.7864250918144126 test rmse 0.8210414119876154\n"
     ]
    },
    {
     "name": "stderr",
     "output_type": "stream",
     "text": [
      " 81%|██████████████████████████████████        | 81/100 [28:13<06:42, 21.20s/it]"
     ]
    },
    {
     "name": "stdout",
     "output_type": "stream",
     "text": [
      "train rmse 0.7864240655011231 test rmse 0.8210419066152795\n"
     ]
    },
    {
     "name": "stderr",
     "output_type": "stream",
     "text": [
      " 82%|██████████████████████████████████▍       | 82/100 [28:35<06:23, 21.32s/it]"
     ]
    },
    {
     "name": "stdout",
     "output_type": "stream",
     "text": [
      "train rmse 0.7864230597209105 test rmse 0.8210423880277731\n"
     ]
    },
    {
     "name": "stderr",
     "output_type": "stream",
     "text": [
      " 83%|██████████████████████████████████▊       | 83/100 [28:56<06:00, 21.23s/it]"
     ]
    },
    {
     "name": "stdout",
     "output_type": "stream",
     "text": [
      "train rmse 0.786422074007802 test rmse 0.8210428565032339\n"
     ]
    },
    {
     "name": "stderr",
     "output_type": "stream",
     "text": [
      " 84%|███████████████████████████████████▎      | 84/100 [29:17<05:39, 21.19s/it]"
     ]
    },
    {
     "name": "stdout",
     "output_type": "stream",
     "text": [
      "train rmse 0.7864211077694404 test rmse 0.8210433127881986\n"
     ]
    },
    {
     "name": "stderr",
     "output_type": "stream",
     "text": [
      " 85%|███████████████████████████████████▋      | 85/100 [29:37<05:16, 21.07s/it]"
     ]
    },
    {
     "name": "stdout",
     "output_type": "stream",
     "text": [
      "train rmse 0.7864201603313737 test rmse 0.8210437577072627\n"
     ]
    },
    {
     "name": "stderr",
     "output_type": "stream",
     "text": [
      " 86%|████████████████████████████████████      | 86/100 [29:58<04:53, 20.95s/it]"
     ]
    },
    {
     "name": "stdout",
     "output_type": "stream",
     "text": [
      "train rmse 0.7864192309690193 test rmse 0.8210441920141877\n"
     ]
    },
    {
     "name": "stderr",
     "output_type": "stream",
     "text": [
      " 87%|████████████████████████████████████▌     | 87/100 [30:19<04:31, 20.86s/it]"
     ]
    },
    {
     "name": "stdout",
     "output_type": "stream",
     "text": [
      "train rmse 0.7864183189275715 test rmse 0.8210446163562105\n"
     ]
    },
    {
     "name": "stderr",
     "output_type": "stream",
     "text": [
      " 88%|████████████████████████████████████▉     | 88/100 [30:40<04:10, 20.84s/it]"
     ]
    },
    {
     "name": "stdout",
     "output_type": "stream",
     "text": [
      "train rmse 0.7864174234510889 test rmse 0.821045031233697\n"
     ]
    },
    {
     "name": "stderr",
     "output_type": "stream",
     "text": [
      " 89%|█████████████████████████████████████▍    | 89/100 [31:01<03:51, 21.02s/it]"
     ]
    },
    {
     "name": "stdout",
     "output_type": "stream",
     "text": [
      "train rmse 0.7864165438516493 test rmse 0.8210454368919996\n"
     ]
    },
    {
     "name": "stderr",
     "output_type": "stream",
     "text": [
      " 90%|█████████████████████████████████████▊    | 90/100 [31:22<03:31, 21.14s/it]"
     ]
    },
    {
     "name": "stdout",
     "output_type": "stream",
     "text": [
      "train rmse 0.7864156796238955 test rmse 0.8210458331982874\n"
     ]
    },
    {
     "name": "stderr",
     "output_type": "stream",
     "text": [
      " 91%|██████████████████████████████████████▏   | 91/100 [31:44<03:10, 21.20s/it]"
     ]
    },
    {
     "name": "stdout",
     "output_type": "stream",
     "text": [
      "train rmse 0.7864148305213664 test rmse 0.8210462197232855\n"
     ]
    },
    {
     "name": "stderr",
     "output_type": "stream",
     "text": [
      " 92%|██████████████████████████████████████▋   | 92/100 [32:05<02:48, 21.11s/it]"
     ]
    },
    {
     "name": "stdout",
     "output_type": "stream",
     "text": [
      "train rmse 0.78641399645172 test rmse 0.8210465962380143\n"
     ]
    },
    {
     "name": "stderr",
     "output_type": "stream",
     "text": [
      " 93%|███████████████████████████████████████   | 93/100 [32:26<02:27, 21.11s/it]"
     ]
    },
    {
     "name": "stdout",
     "output_type": "stream",
     "text": [
      "train rmse 0.7864131772186055 test rmse 0.8210469634231715\n"
     ]
    },
    {
     "name": "stderr",
     "output_type": "stream",
     "text": [
      " 94%|███████████████████████████████████████▍  | 94/100 [32:47<02:06, 21.03s/it]"
     ]
    },
    {
     "name": "stdout",
     "output_type": "stream",
     "text": [
      "train rmse 0.7864123723602718 test rmse 0.8210473232564841\n"
     ]
    },
    {
     "name": "stderr",
     "output_type": "stream",
     "text": [
      " 95%|███████████████████████████████████████▉  | 95/100 [33:08<01:45, 21.04s/it]"
     ]
    },
    {
     "name": "stdout",
     "output_type": "stream",
     "text": [
      "train rmse 0.7864115811973668 test rmse 0.8210476789337245\n"
     ]
    },
    {
     "name": "stderr",
     "output_type": "stream",
     "text": [
      " 96%|████████████████████████████████████████▎ | 96/100 [33:28<01:23, 20.86s/it]"
     ]
    },
    {
     "name": "stdout",
     "output_type": "stream",
     "text": [
      "train rmse 0.7864108029245113 test rmse 0.8210480347904585\n"
     ]
    },
    {
     "name": "stderr",
     "output_type": "stream",
     "text": [
      " 97%|████████████████████████████████████████▋ | 97/100 [33:49<01:02, 20.71s/it]"
     ]
    },
    {
     "name": "stdout",
     "output_type": "stream",
     "text": [
      "train rmse 0.78641003653309 test rmse 0.8210483968186134\n"
     ]
    },
    {
     "name": "stderr",
     "output_type": "stream",
     "text": [
      " 98%|█████████████████████████████████████████▏| 98/100 [34:09<00:41, 20.72s/it]"
     ]
    },
    {
     "name": "stdout",
     "output_type": "stream",
     "text": [
      "train rmse 0.7864092802822399 test rmse 0.8210487741044844\n"
     ]
    },
    {
     "name": "stderr",
     "output_type": "stream",
     "text": [
      " 99%|█████████████████████████████████████████▌| 99/100 [34:30<00:20, 20.73s/it]"
     ]
    },
    {
     "name": "stdout",
     "output_type": "stream",
     "text": [
      "train rmse 0.786408529617828 test rmse 0.8210491799219373\n"
     ]
    },
    {
     "name": "stderr",
     "output_type": "stream",
     "text": [
      "100%|█████████████████████████████████████████| 100/100 [34:50<00:00, 20.91s/it]"
     ]
    },
    {
     "name": "stdout",
     "output_type": "stream",
     "text": [
      "train rmse 0.7864077684200252 test rmse 0.8210496217170555\n"
     ]
    },
    {
     "name": "stderr",
     "output_type": "stream",
     "text": [
      "\n"
     ]
    }
   ],
   "source": [
    "from tqdm import tqdm\n",
    "\n",
    "lam = 5\n",
    "gamm = 0.1\n",
    "tau = 1\n",
    "epochs = 100\n",
    "\n",
    "K = 2\n",
    "\n",
    "M = len(train_user_data)\n",
    "N = len(train_movie_data)\n",
    "\n",
    "user_biases_traink2 = np.zeros((M))\n",
    "item_biases_traink2 = np.zeros((N))\n",
    "user_factor_traink2 = np.random.normal(loc=0, scale= 1/np.sqrt(K), size= (M,K))\n",
    "item_factor_traink2 = np.random.normal(loc=0, scale= 1/np.sqrt(K), size= (N,K))\n",
    "\n",
    "losses_latent_traink2 = []\n",
    "losses_latent_testk2 = []\n",
    "rmse_latent_traink2 = []\n",
    "rmse_latent_testk2 = []\n",
    "\n",
    "\n",
    "for i in tqdm(range(epochs)):\n",
    "    for m in range(M):\n",
    "        # Extract ratings and indices for the current user\n",
    "        if len(train_user_data) > 0:\n",
    "            ratings = train_user_data[m][:, 1]\n",
    "            indices = train_user_data[m][:, 0].astype(int)\n",
    "            \n",
    "            # Calculate user bias\n",
    "            user_bias_train = lam * np.sum(ratings - np.einsum('i,ji->j', user_factor_traink2[m], item_factor_traink2[indices]) - item_biases_traink2[indices]) / (lam * len(indices) + gamm)\n",
    "            user_biases_traink2[m] = user_bias_train\n",
    "            \n",
    "            # Calculate left and right matrices for user factor update\n",
    "            left = np.sum(np.einsum('ij,il->ijl', item_factor_traink2[indices], item_factor_traink2[indices]), axis=0)\n",
    "            right = np.sum(np.einsum('ji,j->ji', item_factor_traink2[indices], ratings - user_bias_train - item_biases_traink2[indices]), axis=0)\n",
    "            \n",
    "            # Update user factor\n",
    "            user_factor_traink2[m] = np.linalg.solve(lam * left + tau * np.eye(K), lam * right)\n",
    "\n",
    "    for n in range(N):\n",
    "        # Extract ratings and indices for the current item\n",
    "        if len(train_movie_data[n]) > 0:\n",
    "            ratings = train_movie_data[n][:, 1]\n",
    "            indices = train_movie_data[n][:, 0].astype(int)\n",
    "            \n",
    "            # Calculate item bias\n",
    "            item_bias_train = lam * np.sum(ratings - np.einsum('ij,j->i', user_factor_traink2[indices], item_factor_traink2[n]) - user_biases_traink2[indices]) / (lam * len(indices) + gamm)\n",
    "            item_biases_traink2[n] = item_bias_train\n",
    "            \n",
    "            # Calculate left and right matrices for item factor update\n",
    "            left = np.sum(np.einsum('ij,il->ijl', user_factor_traink2[indices], user_factor_traink2[indices]), axis=0)\n",
    "            right = np.sum(np.einsum('ji,j->ji', user_factor_traink2[indices], ratings - user_biases_traink2[indices] - item_bias_train), axis=0)\n",
    "            \n",
    "            # Update item factor\n",
    "            item_factor_traink2[n] = np.linalg.solve(lam * left + tau * np.eye(K), lam * right)\n",
    "\n",
    "    # Calculate training loss and RMSE\n",
    "    train_error_squared = 0\n",
    "    train_size = 0\n",
    "    test_error_squared = 0\n",
    "    test_size = 0\n",
    "    \n",
    "    for m in range(M):\n",
    "        if len(train_user_data[m]) > 0:\n",
    "            train_ratings = train_user_data[m][:, 1]\n",
    "            train_indices = train_user_data[m][:, 0].astype(int)\n",
    "            train_error_squared += np.sum((train_ratings - np.einsum('i,ji->j', user_factor_traink2[m], item_factor_traink2[train_indices]) - user_biases_traink2[m] - item_biases_traink2[train_indices])**2)\n",
    "            train_size += len(train_indices)\n",
    "            \n",
    "        if len(test_user_data[m]) > 0:\n",
    "            test_ratings = test_user_data[m][:, 1]\n",
    "            test_indices = test_user_data[m][:, 0].astype(int)\n",
    "            test_error_squared += np.sum((test_ratings - np.einsum('i,ji->j', user_factor_traink2[m], item_factor_traink2[test_indices]) - user_biases_traink2[m] - item_biases_traink2[test_indices])**2)\n",
    "            test_size += len(test_indices)\n",
    "        \n",
    "    train_loss = -0.5 * lam * train_error_squared - 0.5 * gamm * np.sum(user_biases_traink2**2) - 0.5 * gamm * np.sum(item_biases_traink2**2) - 0.5 * tau * (np.einsum('ij,ij->', item_factor_traink2, item_factor_traink2) + np.einsum('ij,ij->', user_factor_traink2, user_factor_traink2))\n",
    "    train_rmse = np.sqrt(1 / train_size * train_error_squared)\n",
    "    \n",
    "    losses_latent_traink2.append(train_loss)\n",
    "    rmse_latent_traink2.append(train_rmse)\n",
    "\n",
    "    test_loss = -0.5 * lam * test_error_squared - 0.5 * gamm * np.sum(user_biases_traink2**2) - 0.5 * gamm * np.sum(item_biases_traink2**2) - 0.5 * tau * (np.einsum('ij, ij->', item_factor_traink2, item_factor_traink2) + np.einsum('ij, ij->', user_factor_traink2, user_factor_traink2))\n",
    "    test_rmse = np.sqrt(1/test_size * test_error_squared)\n",
    "    \n",
    "    losses_latent_testk2.append(test_loss)\n",
    "    rmse_latent_testk2.append(test_rmse)\n",
    "        \n",
    "    print(f'train rmse {train_rmse} test rmse {test_rmse}')"
   ]
  },
  {
   "cell_type": "code",
   "execution_count": 15,
   "metadata": {
    "id": "tsII6mJ7Wfdf"
   },
   "outputs": [
    {
     "data": {
      "image/png": "[encoded data removed]",
      "text/plain": [
       "<Figure size 640x480 with 1 Axes>"
      ]
     },
     "metadata": {},
     "output_type": "display_data"
    }
   ],
   "source": [
    "plt.plot(losses_latent_traink10, label='train loss')\n",
    "plt.plot(losses_latent_testk10, label='test loss')\n",
    "plt.xlabel('Iterations')\n",
    "plt.ylabel('Regularized Log Likelihood')\n",
    "plt.legend()\n",
    "plt.savefig(\"Bias & Latent-loss_splitdata(25m)k10.pdf\", format=\"pdf\", bbox_inches=\"tight\")\n",
    "plt.show()"
   ]
  },
  {
   "cell_type": "code",
   "execution_count": 16,
   "metadata": {
    "id": "yZDASyueWfbT"
   },
   "outputs": [
    {
     "data": {
      "image/png": "[encoded data removed]",
      "text/plain": [
       "<Figure size 640x480 with 1 Axes>"
      ]
     },
     "metadata": {},
     "output_type": "display_data"
    }
   ],
   "source": [
    "plt.plot(rmse_latent_traink10, label='train rmse')\n",
    "plt.plot(rmse_latent_testk10, label='test rmse')\n",
    "plt.xlabel('Iterations')\n",
    "plt.ylabel('RMSE')\n",
    "plt.legend()\n",
    "plt.savefig(\"Bias & Latent-rmse_splitdata(25m)k10.pdf\", format=\"pdf\", bbox_inches=\"tight\")\n",
    "plt.show()"
   ]
  },
  {
   "cell_type": "markdown",
   "metadata": {},
   "source": [
    "**Plotting 2D embeddings for Item Vector**"
   ]
  },
  {
   "cell_type": "code",
   "execution_count": 54,
   "metadata": {},
   "outputs": [],
   "source": [
    "embeddings = item_factor_traink2"
   ]
  },
  {
   "cell_type": "code",
   "execution_count": 55,
   "metadata": {},
   "outputs": [
    {
     "data": {
      "image/png": "[encoded data removed]",
      "text/plain": [
       "<Figure size 1000x800 with 1 Axes>"
      ]
     },
     "metadata": {},
     "output_type": "display_data"
    }
   ],
   "source": [
    "plt.figure(figsize=(10,8))\n",
    "plt.scatter(embeddings[:,0], embeddings[:,1], s=5)\n",
    "plt.title('2D Embeddings Plot')\n",
    "plt.show()"
   ]
  },
  {
   "cell_type": "code",
   "execution_count": 15,
   "metadata": {},
   "outputs": [],
   "source": [
    "all_movie_data = []\n",
    "\n",
    "for datalist, datalists in zip(train_movie_data, test_movie_data):\n",
    "    all_movie_data.append(datalist + datalists)"
   ]
  },
  {
   "cell_type": "code",
   "execution_count": 37,
   "metadata": {
    "scrolled": true
   },
   "outputs": [],
   "source": [
    "popular_movies_index = []\n",
    "\n",
    "for index, movie in enumerate(all_movie_data):\n",
    "    if len(movie) > 800:\n",
    "        popular_movies_index.append(index)"
   ]
  },
  {
   "cell_type": "code",
   "execution_count": 63,
   "metadata": {},
   "outputs": [
    {
     "data": {
      "image/png": "[encoded data removed]",
      "text/plain": [
       "<Figure size 1000x800 with 1 Axes>"
      ]
     },
     "metadata": {},
     "output_type": "display_data"
    }
   ],
   "source": [
    "embeddings_popular = item_factor_traink2[popular_movies_index]\n",
    "plt.figure(figsize=(10,8))\n",
    "plt.scatter(embeddings_popular[:,0], embeddings_popular[:,1], s=5)\n",
    "# plt.title('2D Embeddings Plot')\n",
    "plt.show()"
   ]
  },
  {
   "cell_type": "code",
   "execution_count": 53,
   "metadata": {},
   "outputs": [],
   "source": [
    "genre_movie_indexes = {}\n",
    "\n",
    "for genre in unique_genres:\n",
    "  genre_movie_indexes[genre] = []\n",
    "\n",
    "  for movie_id in genre_movie_ids[genre]:\n",
    "    try:\n",
    "      index = movie_to_idx[movie_id]\n",
    "      genre_movie_indexes[genre].append(index)\n",
    "    except KeyError:\n",
    "      continue"
   ]
  },
  {
   "cell_type": "code",
   "execution_count": 56,
   "metadata": {
    "scrolled": true
   },
   "outputs": [],
   "source": [
    "popular_genre_movie_indexes = {}\n",
    "\n",
    "for genre in unique_genres:\n",
    "    popular_genre_movie_indexes[genre] = []\n",
    "    \n",
    "    for index in popular_movies_index:\n",
    "        if index in genre_movie_indexes[genre]:\n",
    "            popular_genre_movie_indexes[genre].append(index)"
   ]
  },
  {
   "cell_type": "code",
   "execution_count": 69,
   "metadata": {},
   "outputs": [],
   "source": [
    "emb1 = item_factor_traink2[popular_genre_movie_indexes['Children']]\n",
    "emb2 = item_factor_traink2[popular_genre_movie_indexes['Horror']]\n",
    "emb3 = item_factor_traink2[popular_genre_movie_indexes['Sci-Fi']]"
   ]
  },
  {
   "cell_type": "code",
   "execution_count": 72,
   "metadata": {},
   "outputs": [
    {
     "data": {
      "image/png": "[encoded data removed]",
      "text/plain": [
       "<Figure size 1000x800 with 1 Axes>"
      ]
     },
     "metadata": {},
     "output_type": "display_data"
    }
   ],
   "source": [
    "plt.figure(figsize=(10,8))\n",
    "plt.scatter(emb1[:,0], emb1[:,1], s=5, label = 'Children')\n",
    "plt.scatter(emb2[:,0], emb2[:,1], s=5, label = 'Horror')\n",
    "plt.scatter(emb3[:,0], emb3[:,1], s=5, label = 'Sci-Fi')\n",
    "plt.xlabel('Dimension 1')\n",
    "plt.ylabel('Dimension 2')\n",
    "plt.legend()\n",
    "plt.savefig(\"2D embeddings plot.pdf\", format=\"pdf\", bbox_inches=\"tight\")\n",
    "plt.show()"
   ]
  },
  {
   "cell_type": "markdown",
   "metadata": {},
   "source": [
    "**Model with Feature Embeddings**"
   ]
  },
  {
   "cell_type": "code",
   "execution_count": 36,
   "metadata": {},
   "outputs": [],
   "source": [
    "id_to_featvec = moviesdf.set_index('movieId').to_dict()['feature_vectors']"
   ]
  },
  {
   "cell_type": "code",
   "execution_count": 37,
   "metadata": {},
   "outputs": [],
   "source": [
    "feature_vectors = np.zeros((len(moviesdf['movieId']), len(unique_genres)), dtype=int)\n",
    "\n",
    "for id in id_to_featvec.keys():\n",
    "  try:\n",
    "    movindex = movie_to_idx[id]\n",
    "    feature_vectors[movindex] = id_to_featvec[id]\n",
    "  except KeyError:\n",
    "    continue"
   ]
  },
  {
   "cell_type": "code",
   "execution_count": 39,
   "metadata": {
    "scrolled": true
   },
   "outputs": [
    {
     "name": "stderr",
     "output_type": "stream",
     "text": [
      "  1%|▍                                          | 1/100 [00:09<15:18,  9.27s/it]"
     ]
    },
    {
     "name": "stdout",
     "output_type": "stream",
     "text": [
      "train rmse 0.8581020117870987 test rmse 0.8862013613617902\n"
     ]
    },
    {
     "name": "stderr",
     "output_type": "stream",
     "text": [
      "  2%|▊                                          | 2/100 [00:18<15:12,  9.31s/it]"
     ]
    },
    {
     "name": "stdout",
     "output_type": "stream",
     "text": [
      "train rmse 0.8290742259784605 test rmse 0.8615207648229068\n"
     ]
    },
    {
     "name": "stderr",
     "output_type": "stream",
     "text": [
      "  3%|█▎                                         | 3/100 [00:27<15:06,  9.35s/it]"
     ]
    },
    {
     "name": "stdout",
     "output_type": "stream",
     "text": [
      "train rmse 0.8100642922083393 test rmse 0.8423344429135083\n"
     ]
    },
    {
     "name": "stderr",
     "output_type": "stream",
     "text": [
      "  4%|█▋                                         | 4/100 [00:37<14:48,  9.25s/it]"
     ]
    },
    {
     "name": "stdout",
     "output_type": "stream",
     "text": [
      "train rmse 0.7995658815764703 test rmse 0.8319403244783468\n"
     ]
    },
    {
     "name": "stderr",
     "output_type": "stream",
     "text": [
      "  5%|██▏                                        | 5/100 [00:46<14:34,  9.21s/it]"
     ]
    },
    {
     "name": "stdout",
     "output_type": "stream",
     "text": [
      "train rmse 0.7949539054472406 test rmse 0.827432725094654\n"
     ]
    },
    {
     "name": "stderr",
     "output_type": "stream",
     "text": [
      "  6%|██▌                                        | 6/100 [00:55<14:21,  9.17s/it]"
     ]
    },
    {
     "name": "stdout",
     "output_type": "stream",
     "text": [
      "train rmse 0.7927328647846423 test rmse 0.8252897401792263\n"
     ]
    },
    {
     "name": "stderr",
     "output_type": "stream",
     "text": [
      "  7%|███                                        | 7/100 [01:04<14:09,  9.14s/it]"
     ]
    },
    {
     "name": "stdout",
     "output_type": "stream",
     "text": [
      "train rmse 0.7914879894278697 test rmse 0.8241128181118064\n"
     ]
    },
    {
     "name": "stderr",
     "output_type": "stream",
     "text": [
      "  8%|███▍                                       | 8/100 [01:13<13:59,  9.13s/it]"
     ]
    },
    {
     "name": "stdout",
     "output_type": "stream",
     "text": [
      "train rmse 0.7906793442174047 test rmse 0.8233618260172901\n"
     ]
    },
    {
     "name": "stderr",
     "output_type": "stream",
     "text": [
      "  9%|███▊                                       | 9/100 [01:22<13:49,  9.12s/it]"
     ]
    },
    {
     "name": "stdout",
     "output_type": "stream",
     "text": [
      "train rmse 0.7900905338486657 test rmse 0.8228197277655489\n"
     ]
    },
    {
     "name": "stderr",
     "output_type": "stream",
     "text": [
      " 10%|████▏                                     | 10/100 [01:32<13:54,  9.28s/it]"
     ]
    },
    {
     "name": "stdout",
     "output_type": "stream",
     "text": [
      "train rmse 0.78962807851861 test rmse 0.8223918627514606\n"
     ]
    },
    {
     "name": "stderr",
     "output_type": "stream",
     "text": [
      " 11%|████▌                                     | 11/100 [01:41<13:57,  9.41s/it]"
     ]
    },
    {
     "name": "stdout",
     "output_type": "stream",
     "text": [
      "train rmse 0.7892464656288648 test rmse 0.8220378915903042\n"
     ]
    },
    {
     "name": "stderr",
     "output_type": "stream",
     "text": [
      " 12%|█████                                     | 12/100 [01:51<13:45,  9.38s/it]"
     ]
    },
    {
     "name": "stdout",
     "output_type": "stream",
     "text": [
      "train rmse 0.7889213230933755 test rmse 0.8217412221671069\n"
     ]
    },
    {
     "name": "stderr",
     "output_type": "stream",
     "text": [
      " 13%|█████▍                                    | 13/100 [02:00<13:34,  9.36s/it]"
     ]
    },
    {
     "name": "stdout",
     "output_type": "stream",
     "text": [
      "train rmse 0.7886420858275438 test rmse 0.8214941580844499\n"
     ]
    },
    {
     "name": "stderr",
     "output_type": "stream",
     "text": [
      " 14%|█████▉                                    | 14/100 [02:09<13:26,  9.38s/it]"
     ]
    },
    {
     "name": "stdout",
     "output_type": "stream",
     "text": [
      "train rmse 0.788406094325629 test rmse 0.821289288518275\n"
     ]
    },
    {
     "name": "stderr",
     "output_type": "stream",
     "text": [
      " 15%|██████▎                                   | 15/100 [02:19<13:15,  9.36s/it]"
     ]
    },
    {
     "name": "stdout",
     "output_type": "stream",
     "text": [
      "train rmse 0.78820739225218 test rmse 0.8211176659122832\n"
     ]
    },
    {
     "name": "stderr",
     "output_type": "stream",
     "text": [
      " 16%|██████▋                                   | 16/100 [02:28<13:06,  9.37s/it]"
     ]
    },
    {
     "name": "stdout",
     "output_type": "stream",
     "text": [
      "train rmse 0.788042222184085 test rmse 0.8209733280261187\n"
     ]
    },
    {
     "name": "stderr",
     "output_type": "stream",
     "text": [
      " 17%|███████▏                                  | 17/100 [02:38<12:56,  9.36s/it]"
     ]
    },
    {
     "name": "stdout",
     "output_type": "stream",
     "text": [
      "train rmse 0.7879063819230284 test rmse 0.8208558019321124\n"
     ]
    },
    {
     "name": "stderr",
     "output_type": "stream",
     "text": [
      " 18%|███████▌                                  | 18/100 [02:47<12:48,  9.37s/it]"
     ]
    },
    {
     "name": "stdout",
     "output_type": "stream",
     "text": [
      "train rmse 0.7877934403896639 test rmse 0.8207618656772364\n"
     ]
    },
    {
     "name": "stderr",
     "output_type": "stream",
     "text": [
      " 19%|███████▉                                  | 19/100 [02:56<12:40,  9.39s/it]"
     ]
    },
    {
     "name": "stdout",
     "output_type": "stream",
     "text": [
      "train rmse 0.787698277663252 test rmse 0.8206862807768123\n"
     ]
    },
    {
     "name": "stderr",
     "output_type": "stream",
     "text": [
      " 20%|████████▍                                 | 20/100 [03:06<12:31,  9.40s/it]"
     ]
    },
    {
     "name": "stdout",
     "output_type": "stream",
     "text": [
      "train rmse 0.7876172185866325 test rmse 0.8206248530586677\n"
     ]
    },
    {
     "name": "stderr",
     "output_type": "stream",
     "text": [
      " 21%|████████▊                                 | 21/100 [03:15<12:21,  9.39s/it]"
     ]
    },
    {
     "name": "stdout",
     "output_type": "stream",
     "text": [
      "train rmse 0.7875472252681684 test rmse 0.8205745151295011\n"
     ]
    },
    {
     "name": "stderr",
     "output_type": "stream",
     "text": [
      " 22%|█████████▏                                | 22/100 [03:25<12:12,  9.39s/it]"
     ]
    },
    {
     "name": "stdout",
     "output_type": "stream",
     "text": [
      "train rmse 0.7874849193930478 test rmse 0.8205330276531091\n"
     ]
    },
    {
     "name": "stderr",
     "output_type": "stream",
     "text": [
      " 23%|█████████▋                                | 23/100 [03:34<12:01,  9.37s/it]"
     ]
    },
    {
     "name": "stdout",
     "output_type": "stream",
     "text": [
      "train rmse 0.7874287988180567 test rmse 0.8204977444731582\n"
     ]
    },
    {
     "name": "stderr",
     "output_type": "stream",
     "text": [
      " 24%|██████████                                | 24/100 [03:43<11:52,  9.37s/it]"
     ]
    },
    {
     "name": "stdout",
     "output_type": "stream",
     "text": [
      "train rmse 0.7873786408784392 test rmse 0.8204677882327219\n"
     ]
    },
    {
     "name": "stderr",
     "output_type": "stream",
     "text": [
      " 25%|██████████▌                               | 25/100 [03:53<11:41,  9.36s/it]"
     ]
    },
    {
     "name": "stdout",
     "output_type": "stream",
     "text": [
      "train rmse 0.7873297999569375 test rmse 0.8204434295722032\n"
     ]
    },
    {
     "name": "stderr",
     "output_type": "stream",
     "text": [
      " 26%|██████████▉                               | 26/100 [04:02<11:32,  9.36s/it]"
     ]
    },
    {
     "name": "stdout",
     "output_type": "stream",
     "text": [
      "train rmse 0.787287528567238 test rmse 0.8204220527678169\n"
     ]
    },
    {
     "name": "stderr",
     "output_type": "stream",
     "text": [
      " 27%|███████████▎                              | 27/100 [04:11<11:22,  9.35s/it]"
     ]
    },
    {
     "name": "stdout",
     "output_type": "stream",
     "text": [
      "train rmse 0.7872514455763227 test rmse 0.8204052482917662\n"
     ]
    },
    {
     "name": "stderr",
     "output_type": "stream",
     "text": [
      " 28%|███████████▊                              | 28/100 [04:21<11:14,  9.36s/it]"
     ]
    },
    {
     "name": "stdout",
     "output_type": "stream",
     "text": [
      "train rmse 0.7872193265012987 test rmse 0.8203911612757369\n"
     ]
    },
    {
     "name": "stderr",
     "output_type": "stream",
     "text": [
      " 29%|████████████▏                             | 29/100 [04:30<11:06,  9.39s/it]"
     ]
    },
    {
     "name": "stdout",
     "output_type": "stream",
     "text": [
      "train rmse 0.7871904520064661 test rmse 0.8203791192591623\n"
     ]
    },
    {
     "name": "stderr",
     "output_type": "stream",
     "text": [
      " 30%|████████████▌                             | 30/100 [04:39<10:55,  9.36s/it]"
     ]
    },
    {
     "name": "stdout",
     "output_type": "stream",
     "text": [
      "train rmse 0.7871642889948779 test rmse 0.8203685805853193\n"
     ]
    },
    {
     "name": "stderr",
     "output_type": "stream",
     "text": [
      " 31%|█████████████                             | 31/100 [04:49<10:44,  9.34s/it]"
     ]
    },
    {
     "name": "stdout",
     "output_type": "stream",
     "text": [
      "train rmse 0.787140441609406 test rmse 0.8203591987315385\n"
     ]
    },
    {
     "name": "stderr",
     "output_type": "stream",
     "text": [
      " 32%|█████████████▍                            | 32/100 [04:58<10:35,  9.34s/it]"
     ]
    },
    {
     "name": "stdout",
     "output_type": "stream",
     "text": [
      "train rmse 0.7871186106437038 test rmse 0.8203506974214242\n"
     ]
    },
    {
     "name": "stderr",
     "output_type": "stream",
     "text": [
      " 33%|█████████████▊                            | 33/100 [05:07<10:24,  9.32s/it]"
     ]
    },
    {
     "name": "stdout",
     "output_type": "stream",
     "text": [
      "train rmse 0.7870985704129557 test rmse 0.8203428136419962\n"
     ]
    },
    {
     "name": "stderr",
     "output_type": "stream",
     "text": [
      " 34%|██████████████▎                           | 34/100 [05:17<10:14,  9.31s/it]"
     ]
    },
    {
     "name": "stdout",
     "output_type": "stream",
     "text": [
      "train rmse 0.7870801374231363 test rmse 0.8203353081780954\n"
     ]
    },
    {
     "name": "stderr",
     "output_type": "stream",
     "text": [
      " 35%|██████████████▋                           | 35/100 [05:26<10:05,  9.32s/it]"
     ]
    },
    {
     "name": "stdout",
     "output_type": "stream",
     "text": [
      "train rmse 0.7870631135620164 test rmse 0.8203280134510452\n"
     ]
    },
    {
     "name": "stderr",
     "output_type": "stream",
     "text": [
      " 36%|███████████████                           | 36/100 [05:35<09:56,  9.32s/it]"
     ]
    },
    {
     "name": "stdout",
     "output_type": "stream",
     "text": [
      "train rmse 0.7870472731921546 test rmse 0.8203209113354842\n"
     ]
    },
    {
     "name": "stderr",
     "output_type": "stream",
     "text": [
      " 37%|███████████████▌                          | 37/100 [05:45<09:47,  9.32s/it]"
     ]
    },
    {
     "name": "stdout",
     "output_type": "stream",
     "text": [
      "train rmse 0.7870320651151088 test rmse 0.8203138796568569\n"
     ]
    },
    {
     "name": "stderr",
     "output_type": "stream",
     "text": [
      " 38%|███████████████▉                          | 38/100 [05:54<09:38,  9.33s/it]"
     ]
    },
    {
     "name": "stdout",
     "output_type": "stream",
     "text": [
      "train rmse 0.7870173023524902 test rmse 0.8203089125536067\n"
     ]
    },
    {
     "name": "stderr",
     "output_type": "stream",
     "text": [
      " 39%|████████████████▍                         | 39/100 [06:03<09:28,  9.32s/it]"
     ]
    },
    {
     "name": "stdout",
     "output_type": "stream",
     "text": [
      "train rmse 0.7870047115490237 test rmse 0.8203033026335601\n"
     ]
    },
    {
     "name": "stderr",
     "output_type": "stream",
     "text": [
      " 40%|████████████████▊                         | 40/100 [06:13<09:18,  9.31s/it]"
     ]
    },
    {
     "name": "stdout",
     "output_type": "stream",
     "text": [
      "train rmse 0.7869930441862079 test rmse 0.8202980637731171\n"
     ]
    },
    {
     "name": "stderr",
     "output_type": "stream",
     "text": [
      " 41%|█████████████████▏                        | 41/100 [06:22<09:10,  9.33s/it]"
     ]
    },
    {
     "name": "stdout",
     "output_type": "stream",
     "text": [
      "train rmse 0.7869820812299876 test rmse 0.8202933235742667\n"
     ]
    },
    {
     "name": "stderr",
     "output_type": "stream",
     "text": [
      " 42%|█████████████████▋                        | 42/100 [06:31<09:01,  9.33s/it]"
     ]
    },
    {
     "name": "stdout",
     "output_type": "stream",
     "text": [
      "train rmse 0.7869717824066704 test rmse 0.82028888081751\n"
     ]
    },
    {
     "name": "stderr",
     "output_type": "stream",
     "text": [
      " 43%|██████████████████                        | 43/100 [06:41<08:52,  9.34s/it]"
     ]
    },
    {
     "name": "stdout",
     "output_type": "stream",
     "text": [
      "train rmse 0.7869621968991223 test rmse 0.8202846167293838\n"
     ]
    },
    {
     "name": "stderr",
     "output_type": "stream",
     "text": [
      " 44%|██████████████████▍                       | 44/100 [06:50<08:43,  9.34s/it]"
     ]
    },
    {
     "name": "stdout",
     "output_type": "stream",
     "text": [
      "train rmse 0.7869533006353192 test rmse 0.8202806481067824\n"
     ]
    },
    {
     "name": "stderr",
     "output_type": "stream",
     "text": [
      " 45%|██████████████████▉                       | 45/100 [06:59<08:34,  9.36s/it]"
     ]
    },
    {
     "name": "stdout",
     "output_type": "stream",
     "text": [
      "train rmse 0.7869449425446362 test rmse 0.8202770612389129\n"
     ]
    },
    {
     "name": "stderr",
     "output_type": "stream",
     "text": [
      " 46%|███████████████████▎                      | 46/100 [07:09<08:24,  9.34s/it]"
     ]
    },
    {
     "name": "stdout",
     "output_type": "stream",
     "text": [
      "train rmse 0.7869370321520892 test rmse 0.8202738980264894\n"
     ]
    },
    {
     "name": "stderr",
     "output_type": "stream",
     "text": [
      " 47%|███████████████████▋                      | 47/100 [07:18<08:15,  9.35s/it]"
     ]
    },
    {
     "name": "stdout",
     "output_type": "stream",
     "text": [
      "train rmse 0.7869295465750301 test rmse 0.8202711685060913\n"
     ]
    },
    {
     "name": "stderr",
     "output_type": "stream",
     "text": [
      " 48%|████████████████████▏                     | 48/100 [07:27<08:07,  9.37s/it]"
     ]
    },
    {
     "name": "stdout",
     "output_type": "stream",
     "text": [
      "train rmse 0.7869224827198643 test rmse 0.8202688430950659\n"
     ]
    },
    {
     "name": "stderr",
     "output_type": "stream",
     "text": [
      " 49%|████████████████████▌                     | 49/100 [07:37<07:59,  9.40s/it]"
     ]
    },
    {
     "name": "stdout",
     "output_type": "stream",
     "text": [
      "train rmse 0.7869157732752206 test rmse 0.8202669026730616\n"
     ]
    },
    {
     "name": "stderr",
     "output_type": "stream",
     "text": [
      " 50%|█████████████████████                     | 50/100 [07:46<07:48,  9.37s/it]"
     ]
    },
    {
     "name": "stdout",
     "output_type": "stream",
     "text": [
      "train rmse 0.7869093460835013 test rmse 0.8202653381905278\n"
     ]
    },
    {
     "name": "stderr",
     "output_type": "stream",
     "text": [
      " 51%|█████████████████████▍                    | 51/100 [07:56<07:39,  9.37s/it]"
     ]
    },
    {
     "name": "stdout",
     "output_type": "stream",
     "text": [
      "train rmse 0.7869031476524299 test rmse 0.8202641367736998\n"
     ]
    },
    {
     "name": "stderr",
     "output_type": "stream",
     "text": [
      " 52%|█████████████████████▊                    | 52/100 [08:05<07:29,  9.35s/it]"
     ]
    },
    {
     "name": "stdout",
     "output_type": "stream",
     "text": [
      "train rmse 0.7868972315878602 test rmse 0.8202632342935092\n"
     ]
    },
    {
     "name": "stderr",
     "output_type": "stream",
     "text": [
      " 53%|██████████████████████▎                   | 53/100 [08:14<07:18,  9.34s/it]"
     ]
    },
    {
     "name": "stdout",
     "output_type": "stream",
     "text": [
      "train rmse 0.7868916219081066 test rmse 0.8202624996287264\n"
     ]
    },
    {
     "name": "stderr",
     "output_type": "stream",
     "text": [
      " 54%|██████████████████████▋                   | 54/100 [08:23<07:09,  9.33s/it]"
     ]
    },
    {
     "name": "stdout",
     "output_type": "stream",
     "text": [
      "train rmse 0.7868863115389793 test rmse 0.8202615965082816\n"
     ]
    },
    {
     "name": "stderr",
     "output_type": "stream",
     "text": [
      " 55%|███████████████████████                   | 55/100 [08:33<06:59,  9.31s/it]"
     ]
    },
    {
     "name": "stdout",
     "output_type": "stream",
     "text": [
      "train rmse 0.7868813352739235 test rmse 0.8202604124620417\n"
     ]
    },
    {
     "name": "stderr",
     "output_type": "stream",
     "text": [
      " 56%|███████████████████████▌                  | 56/100 [08:42<06:49,  9.30s/it]"
     ]
    },
    {
     "name": "stdout",
     "output_type": "stream",
     "text": [
      "train rmse 0.7868766332351101 test rmse 0.8202591289556532\n"
     ]
    },
    {
     "name": "stderr",
     "output_type": "stream",
     "text": [
      " 57%|███████████████████████▉                  | 57/100 [08:51<06:39,  9.30s/it]"
     ]
    },
    {
     "name": "stdout",
     "output_type": "stream",
     "text": [
      "train rmse 0.7868721649172705 test rmse 0.8202578490427737\n"
     ]
    },
    {
     "name": "stderr",
     "output_type": "stream",
     "text": [
      " 58%|████████████████████████▎                 | 58/100 [09:01<06:31,  9.33s/it]"
     ]
    },
    {
     "name": "stdout",
     "output_type": "stream",
     "text": [
      "train rmse 0.7868679203153787 test rmse 0.8202565642878398\n"
     ]
    },
    {
     "name": "stderr",
     "output_type": "stream",
     "text": [
      " 59%|████████████████████████▊                 | 59/100 [09:10<06:21,  9.31s/it]"
     ]
    },
    {
     "name": "stdout",
     "output_type": "stream",
     "text": [
      "train rmse 0.7868638694456775 test rmse 0.820255288540815\n"
     ]
    },
    {
     "name": "stderr",
     "output_type": "stream",
     "text": [
      " 60%|█████████████████████████▏                | 60/100 [09:19<06:12,  9.30s/it]"
     ]
    },
    {
     "name": "stdout",
     "output_type": "stream",
     "text": [
      "train rmse 0.7868599848859628 test rmse 0.82025406716254\n"
     ]
    },
    {
     "name": "stderr",
     "output_type": "stream",
     "text": [
      " 61%|█████████████████████████▌                | 61/100 [09:29<06:03,  9.31s/it]"
     ]
    },
    {
     "name": "stdout",
     "output_type": "stream",
     "text": [
      "train rmse 0.7868562481529733 test rmse 0.8202529402461176\n"
     ]
    },
    {
     "name": "stderr",
     "output_type": "stream",
     "text": [
      " 62%|██████████████████████████                | 62/100 [09:38<05:53,  9.30s/it]"
     ]
    },
    {
     "name": "stdout",
     "output_type": "stream",
     "text": [
      "train rmse 0.7868526457339751 test rmse 0.820251940855235\n"
     ]
    },
    {
     "name": "stderr",
     "output_type": "stream",
     "text": [
      " 63%|██████████████████████████▍               | 63/100 [09:47<05:44,  9.30s/it]"
     ]
    },
    {
     "name": "stdout",
     "output_type": "stream",
     "text": [
      "train rmse 0.7868491673759292 test rmse 0.8202510921253149\n"
     ]
    },
    {
     "name": "stderr",
     "output_type": "stream",
     "text": [
      " 64%|██████████████████████████▉               | 64/100 [09:57<05:34,  9.30s/it]"
     ]
    },
    {
     "name": "stdout",
     "output_type": "stream",
     "text": [
      "train rmse 0.7868458044548882 test rmse 0.820250397924725\n"
     ]
    },
    {
     "name": "stderr",
     "output_type": "stream",
     "text": [
      " 65%|███████████████████████████▎              | 65/100 [10:06<05:25,  9.29s/it]"
     ]
    },
    {
     "name": "stdout",
     "output_type": "stream",
     "text": [
      "train rmse 0.7868425482369991 test rmse 0.8202498412827788\n"
     ]
    },
    {
     "name": "stderr",
     "output_type": "stream",
     "text": [
      " 66%|███████████████████████████▋              | 66/100 [10:15<05:15,  9.28s/it]"
     ]
    },
    {
     "name": "stdout",
     "output_type": "stream",
     "text": [
      "train rmse 0.7868393869774726 test rmse 0.8202493860551456\n"
     ]
    },
    {
     "name": "stderr",
     "output_type": "stream",
     "text": [
      " 67%|████████████████████████████▏             | 67/100 [10:24<05:07,  9.31s/it]"
     ]
    },
    {
     "name": "stdout",
     "output_type": "stream",
     "text": [
      "train rmse 0.7868362860301863 test rmse 0.8202489686434371\n"
     ]
    },
    {
     "name": "stderr",
     "output_type": "stream",
     "text": [
      " 68%|████████████████████████████▌             | 68/100 [10:34<04:58,  9.33s/it]"
     ]
    },
    {
     "name": "stdout",
     "output_type": "stream",
     "text": [
      "train rmse 0.7868330756353333 test rmse 0.8202484652843723\n"
     ]
    },
    {
     "name": "stderr",
     "output_type": "stream",
     "text": [
      " 69%|████████████████████████████▉             | 69/100 [10:43<04:48,  9.30s/it]"
     ]
    },
    {
     "name": "stdout",
     "output_type": "stream",
     "text": [
      "train rmse 0.7868290783882288 test rmse 0.8202478566979641\n"
     ]
    },
    {
     "name": "stderr",
     "output_type": "stream",
     "text": [
      " 70%|█████████████████████████████▍            | 70/100 [10:52<04:38,  9.27s/it]"
     ]
    },
    {
     "name": "stdout",
     "output_type": "stream",
     "text": [
      "train rmse 0.7868249199416453 test rmse 0.8202484234607532\n"
     ]
    },
    {
     "name": "stderr",
     "output_type": "stream",
     "text": [
      " 71%|█████████████████████████████▊            | 71/100 [11:01<04:28,  9.26s/it]"
     ]
    },
    {
     "name": "stdout",
     "output_type": "stream",
     "text": [
      "train rmse 0.7868219787647309 test rmse 0.8202484010780235\n"
     ]
    },
    {
     "name": "stderr",
     "output_type": "stream",
     "text": [
      " 72%|██████████████████████████████▏           | 72/100 [11:11<04:19,  9.25s/it]"
     ]
    },
    {
     "name": "stdout",
     "output_type": "stream",
     "text": [
      "train rmse 0.7868192855016348 test rmse 0.8202480618123442\n"
     ]
    },
    {
     "name": "stderr",
     "output_type": "stream",
     "text": [
      " 73%|██████████████████████████████▋           | 73/100 [11:20<04:09,  9.24s/it]"
     ]
    },
    {
     "name": "stdout",
     "output_type": "stream",
     "text": [
      "train rmse 0.7868166577028679 test rmse 0.8202481680499473\n"
     ]
    },
    {
     "name": "stderr",
     "output_type": "stream",
     "text": [
      " 74%|███████████████████████████████           | 74/100 [11:29<04:00,  9.24s/it]"
     ]
    },
    {
     "name": "stdout",
     "output_type": "stream",
     "text": [
      "train rmse 0.7868141251754166 test rmse 0.8202484531183606\n"
     ]
    },
    {
     "name": "stderr",
     "output_type": "stream",
     "text": [
      " 75%|███████████████████████████████▌          | 75/100 [11:38<03:50,  9.24s/it]"
     ]
    },
    {
     "name": "stdout",
     "output_type": "stream",
     "text": [
      "train rmse 0.7868117067306488 test rmse 0.8202485627709092\n"
     ]
    },
    {
     "name": "stderr",
     "output_type": "stream",
     "text": [
      " 76%|███████████████████████████████▉          | 76/100 [11:48<03:41,  9.23s/it]"
     ]
    },
    {
     "name": "stdout",
     "output_type": "stream",
     "text": [
      "train rmse 0.786809382265626 test rmse 0.8202485375337153\n"
     ]
    },
    {
     "name": "stderr",
     "output_type": "stream",
     "text": [
      " 77%|████████████████████████████████▎         | 77/100 [11:57<03:32,  9.23s/it]"
     ]
    },
    {
     "name": "stdout",
     "output_type": "stream",
     "text": [
      "train rmse 0.7868071370807205 test rmse 0.8202484070550903\n"
     ]
    },
    {
     "name": "stderr",
     "output_type": "stream",
     "text": [
      " 78%|████████████████████████████████▊         | 78/100 [12:06<03:22,  9.23s/it]"
     ]
    },
    {
     "name": "stdout",
     "output_type": "stream",
     "text": [
      "train rmse 0.7868049624464021 test rmse 0.8202481852681005\n"
     ]
    },
    {
     "name": "stderr",
     "output_type": "stream",
     "text": [
      " 79%|█████████████████████████████████▏        | 79/100 [12:15<03:13,  9.22s/it]"
     ]
    },
    {
     "name": "stdout",
     "output_type": "stream",
     "text": [
      "train rmse 0.7868028527589539 test rmse 0.820247888050315\n"
     ]
    },
    {
     "name": "stderr",
     "output_type": "stream",
     "text": [
      " 80%|█████████████████████████████████▌        | 80/100 [12:24<03:04,  9.23s/it]"
     ]
    },
    {
     "name": "stdout",
     "output_type": "stream",
     "text": [
      "train rmse 0.7868008040128108 test rmse 0.8202475320193233\n"
     ]
    },
    {
     "name": "stderr",
     "output_type": "stream",
     "text": [
      " 81%|██████████████████████████████████        | 81/100 [12:34<02:55,  9.23s/it]"
     ]
    },
    {
     "name": "stdout",
     "output_type": "stream",
     "text": [
      "train rmse 0.7867988130698711 test rmse 0.8202471320982164\n"
     ]
    },
    {
     "name": "stderr",
     "output_type": "stream",
     "text": [
      " 82%|██████████████████████████████████▍       | 82/100 [12:43<02:46,  9.23s/it]"
     ]
    },
    {
     "name": "stdout",
     "output_type": "stream",
     "text": [
      "train rmse 0.7867968772898444 test rmse 0.8202467004055455\n"
     ]
    },
    {
     "name": "stderr",
     "output_type": "stream",
     "text": [
      " 83%|██████████████████████████████████▊       | 83/100 [12:52<02:36,  9.23s/it]"
     ]
    },
    {
     "name": "stdout",
     "output_type": "stream",
     "text": [
      "train rmse 0.7867949942959136 test rmse 0.8202462460573277\n"
     ]
    },
    {
     "name": "stderr",
     "output_type": "stream",
     "text": [
      " 84%|███████████████████████████████████▎      | 84/100 [13:01<02:27,  9.22s/it]"
     ]
    },
    {
     "name": "stdout",
     "output_type": "stream",
     "text": [
      "train rmse 0.7867931616986545 test rmse 0.8202457753265768\n"
     ]
    },
    {
     "name": "stderr",
     "output_type": "stream",
     "text": [
      " 85%|███████████████████████████████████▋      | 85/100 [13:11<02:18,  9.20s/it]"
     ]
    },
    {
     "name": "stdout",
     "output_type": "stream",
     "text": [
      "train rmse 0.786791376410045 test rmse 0.8202452917468653\n"
     ]
    },
    {
     "name": "stderr",
     "output_type": "stream",
     "text": [
      " 86%|████████████████████████████████████      | 86/100 [13:20<02:08,  9.20s/it]"
     ]
    },
    {
     "name": "stdout",
     "output_type": "stream",
     "text": [
      "train rmse 0.7867896322725421 test rmse 0.8202447957646536\n"
     ]
    },
    {
     "name": "stderr",
     "output_type": "stream",
     "text": [
      " 87%|████████████████████████████████████▌     | 87/100 [13:29<01:59,  9.21s/it]"
     ]
    },
    {
     "name": "stdout",
     "output_type": "stream",
     "text": [
      "train rmse 0.7867879123695556 test rmse 0.8202442836946083\n"
     ]
    },
    {
     "name": "stderr",
     "output_type": "stream",
     "text": [
      " 88%|████████████████████████████████████▉     | 88/100 [13:38<01:50,  9.24s/it]"
     ]
    },
    {
     "name": "stdout",
     "output_type": "stream",
     "text": [
      "train rmse 0.7867861867787669 test rmse 0.8202437501739468\n"
     ]
    },
    {
     "name": "stderr",
     "output_type": "stream",
     "text": [
      " 89%|█████████████████████████████████████▍    | 89/100 [13:48<01:41,  9.25s/it]"
     ]
    },
    {
     "name": "stdout",
     "output_type": "stream",
     "text": [
      "train rmse 0.7867844999622767 test rmse 0.8202432152859271\n"
     ]
    },
    {
     "name": "stderr",
     "output_type": "stream",
     "text": [
      " 90%|█████████████████████████████████████▊    | 90/100 [13:57<01:32,  9.24s/it]"
     ]
    },
    {
     "name": "stdout",
     "output_type": "stream",
     "text": [
      "train rmse 0.7867829058044189 test rmse 0.8202427166080233\n"
     ]
    },
    {
     "name": "stderr",
     "output_type": "stream",
     "text": [
      " 91%|██████████████████████████████████████▏   | 91/100 [14:06<01:23,  9.23s/it]"
     ]
    },
    {
     "name": "stdout",
     "output_type": "stream",
     "text": [
      "train rmse 0.7867813659547539 test rmse 0.8202422325381329\n"
     ]
    },
    {
     "name": "stderr",
     "output_type": "stream",
     "text": [
      " 92%|██████████████████████████████████████▋   | 92/100 [14:15<01:13,  9.22s/it]"
     ]
    },
    {
     "name": "stdout",
     "output_type": "stream",
     "text": [
      "train rmse 0.7867798681110085 test rmse 0.820241752104215\n"
     ]
    },
    {
     "name": "stderr",
     "output_type": "stream",
     "text": [
      " 93%|███████████████████████████████████████   | 93/100 [14:24<01:04,  9.22s/it]"
     ]
    },
    {
     "name": "stdout",
     "output_type": "stream",
     "text": [
      "train rmse 0.7867784093434028 test rmse 0.8202412767696203\n"
     ]
    },
    {
     "name": "stderr",
     "output_type": "stream",
     "text": [
      " 94%|███████████████████████████████████████▍  | 94/100 [14:34<00:55,  9.24s/it]"
     ]
    },
    {
     "name": "stdout",
     "output_type": "stream",
     "text": [
      "train rmse 0.7867769878712556 test rmse 0.8202408093056842\n"
     ]
    },
    {
     "name": "stderr",
     "output_type": "stream",
     "text": [
      " 95%|███████████████████████████████████████▉  | 95/100 [14:43<00:46,  9.24s/it]"
     ]
    },
    {
     "name": "stdout",
     "output_type": "stream",
     "text": [
      "train rmse 0.7867756021759464 test rmse 0.8202403511584486\n"
     ]
    },
    {
     "name": "stderr",
     "output_type": "stream",
     "text": [
      " 96%|████████████████████████████████████████▎ | 96/100 [14:52<00:36,  9.22s/it]"
     ]
    },
    {
     "name": "stdout",
     "output_type": "stream",
     "text": [
      "train rmse 0.7867742509100883 test rmse 0.8202399024410373\n"
     ]
    },
    {
     "name": "stderr",
     "output_type": "stream",
     "text": [
      " 97%|████████████████████████████████████████▋ | 97/100 [15:01<00:27,  9.25s/it]"
     ]
    },
    {
     "name": "stdout",
     "output_type": "stream",
     "text": [
      "train rmse 0.7867729328815637 test rmse 0.8202394625642355\n"
     ]
    },
    {
     "name": "stderr",
     "output_type": "stream",
     "text": [
      " 98%|█████████████████████████████████████████▏| 98/100 [15:11<00:18,  9.25s/it]"
     ]
    },
    {
     "name": "stdout",
     "output_type": "stream",
     "text": [
      "train rmse 0.7867716470219204 test rmse 0.8202390306986621\n"
     ]
    },
    {
     "name": "stderr",
     "output_type": "stream",
     "text": [
      " 99%|█████████████████████████████████████████▌| 99/100 [15:20<00:09,  9.24s/it]"
     ]
    },
    {
     "name": "stdout",
     "output_type": "stream",
     "text": [
      "train rmse 0.7867703923529777 test rmse 0.8202386060105883\n"
     ]
    },
    {
     "name": "stderr",
     "output_type": "stream",
     "text": [
      "100%|█████████████████████████████████████████| 100/100 [15:29<00:00,  9.30s/it]"
     ]
    },
    {
     "name": "stdout",
     "output_type": "stream",
     "text": [
      "train rmse 0.7867691679618188 test rmse 0.8202381877588057\n"
     ]
    },
    {
     "name": "stderr",
     "output_type": "stream",
     "text": [
      "\n"
     ]
    }
   ],
   "source": [
    "from tqdm import tqdm\n",
    "\n",
    "lam = 5\n",
    "gamm = 0.1\n",
    "tau = 1\n",
    "epochs = 100\n",
    "\n",
    "K = 2\n",
    "\n",
    "M = len(train_user_data)\n",
    "N = len(train_movie_data)\n",
    "num_features = len(unique_genres)\n",
    "\n",
    "user_biases_train = np.zeros((M))\n",
    "item_biases_train = np.zeros((N))\n",
    "user_factor_train = np.random.normal(loc=0, scale= 1/np.sqrt(K), size= (M,K))\n",
    "item_factor_train = np.random.normal(loc=0, scale= 1/np.sqrt(K), size= (N,K))\n",
    "feature_embedding = np.random.normal(loc=0, scale= 1/np.sqrt(K), size= (num_features, K))\n",
    "\n",
    "losses_latent_train = []\n",
    "losses_latent_test = []\n",
    "rmse_latent_train = []\n",
    "rmse_latent_test = []\n",
    "\n",
    "\n",
    "def plot_genre_feature(feature_embedding, genres, file):\n",
    "    plt.figure(figsize=(10, 8))\n",
    "    \n",
    "    for q, genre in enumerate(genres):\n",
    "        plt.scatter(feature_embedding[q, 0], feature_embedding[q, 1])\n",
    "        plt.annotate(genre, (feature_embedding[q, 0], feature_embedding[q, 1]), textcoords=\"offset points\", xytext=(0,10), ha='center')\n",
    "    plt.axhline(0, color='black', linestyle='--', linewidth=1)\n",
    "    plt.axvline(0, color='black', linestyle='--', linewidth=1)\n",
    "    plt.xlabel('Dimension 1')\n",
    "    plt.ylabel('Dimension 2')\n",
    "    plt.savefig(file)\n",
    "    plt.show()\n",
    "\n",
    "for i in tqdm(range(epochs)):\n",
    "    if i == 0:\n",
    "        plot_genre_feature(feature_embedding, unique_genres,'featgen1.pdf')\n",
    "    elif i == epochs - 1:\n",
    "        plot_genre_feature(feature_embedding, unique_genres,'featgen2.pdf')\n",
    "            \n",
    "        \n",
    "    for m in range(M):\n",
    "        # Extract ratings and indices for the current user\n",
    "        if len(train_user_data) > 0:\n",
    "            ratings = train_user_data[m][:, 1]\n",
    "            indices = train_user_data[m][:, 0].astype(int)\n",
    "            \n",
    "            # Calculate user bias\n",
    "            user_bias_train = lam * np.sum(ratings - np.einsum('i,ji->j', user_factor_train[m], item_factor_train[indices]) - item_biases_train[indices]) / (lam * len(indices) + gamm)\n",
    "            user_biases_train[m] = user_bias_train\n",
    "            \n",
    "            # Calculate left and right matrices for user factor update\n",
    "            left = np.sum(np.einsum('ij,il->ijl', item_factor_train[indices], item_factor_train[indices]), axis=0)\n",
    "            right = np.sum(np.einsum('ji,j->ji', item_factor_train[indices], ratings - user_bias_train - item_biases_train[indices]), axis=0)\n",
    "            \n",
    "            # Update user factor\n",
    "            user_factor_train[m] = np.linalg.solve(lam * left + tau * np.eye(K), lam * right)\n",
    "\n",
    "    for n in range(N):\n",
    "        # Extract ratings and indices for the current item\n",
    "        if len(train_movie_data[n]) > 0:\n",
    "            ratings = train_movie_data[n][:, 1]\n",
    "            indices = train_movie_data[n][:, 0].astype(int)\n",
    "    \n",
    "            \n",
    "            # Calculate item bias\n",
    "            item_bias_train = lam * np.sum(ratings - np.einsum('ij,j->i', user_factor_train[indices], item_factor_train[n]) - user_biases_train[indices]) / (lam * len(indices) + gamm)\n",
    "            item_biases_train[n] = item_bias_train\n",
    "            \n",
    "            # Calculate left and right matrices for item factor update\n",
    "            left = np.sum(np.einsum('ij,il->ijl', user_factor_train[indices], user_factor_train[indices]), axis=0)\n",
    "            right = np.sum(np.einsum('ji,j->ji', user_factor_train[indices], ratings - user_biases_train[indices] - item_bias_train), axis=0) \n",
    "\n",
    "            actual_right = right + tau * (1/(np.sqrt(np.sum(feature_vectors[n])) + 1)) * np.dot(feature_vectors[n], feature_embedding)\n",
    "            # Update item factor\n",
    "            item_factor_train[n] = np.linalg.solve(left + tau * np.eye(K), actual_right)\n",
    "\n",
    "    for i in range(num_features):\n",
    "        indices = np.where(feature_vectors[:, i] == 1) \n",
    "        feature_sums = np.sum(feature_vectors[indices], axis=1)\n",
    "        features_except_i = np.delete(feature_vectors, i, axis=1)[indices] \n",
    "        F_except_i = np.delete(feature_embedding, i, axis=0) \n",
    "        # calculate feature update\n",
    "        total_right = np.sum(np.einsum('ij, i -> ij', item_factor_train[indices], 1/np.sqrt(feature_sums)) \n",
    "                             - np.einsum('i, ij-> ij', 1/feature_sums , np.einsum('ij, jk -> ik', features_except_i, F_except_i)), axis=0) # calculate feature update\n",
    "        \n",
    "        feature_embedding[i] = total_right/(np.sum(1/np.sqrt(feature_sums)) - 1)\n",
    "\n",
    "    # # Calculate training loss and RMSE\n",
    "    train_error_squared = 0\n",
    "    train_size = 0\n",
    "    test_error_squared = 0\n",
    "    test_size = 0\n",
    "    \n",
    "    for m in range(M):\n",
    "        if len(train_user_data[m]) > 0:\n",
    "            train_ratings = train_user_data[m][:, 1]\n",
    "            train_indices = train_user_data[m][:, 0].astype(int)\n",
    "            train_error_squared += np.sum((train_ratings - np.einsum('i,ji->j', user_factor_train[m], item_factor_train[train_indices]) - user_biases_train[m] - item_biases_train[train_indices])**2)\n",
    "            train_size += len(train_indices)\n",
    "            \n",
    "        if len(test_user_data[m]) > 0:\n",
    "            test_ratings = test_user_data[m][:, 1]\n",
    "            test_indices = test_user_data[m][:, 0].astype(int)\n",
    "            test_error_squared += np.sum((test_ratings - np.einsum('i,ji->j', user_factor_train[m], item_factor_train[test_indices]) - user_biases_train[m] - item_biases_train[test_indices])**2)\n",
    "            test_size += len(test_indices)\n",
    "        \n",
    "    # train_loss = -0.5 * lam * train_error_squared - 0.5 * gamm * np.sum(user_biases_train**2) - 0.5 * gamm * np.sum(item_biases_train**2) - 0.5 * tau * (np.einsum('ij,ij->', item_factor_train, item_factor_train) + np.einsum('ij,ij->', user_factor_train, user_factor_train))\n",
    "    train_rmse = np.sqrt(1 / train_size * train_error_squared)\n",
    "    \n",
    "    # losses_latent_train.append(train_loss)\n",
    "    rmse_latent_train.append(train_rmse)\n",
    "\n",
    "    # test_loss = -0.5 * lam * test_error_squared - 0.5 * gamm * np.sum(user_biases_train**2) - 0.5 * gamm * np.sum(item_biases_train**2) - 0.5 * tau * (np.einsum('ij, ij->', item_factor_train, item_factor_train) + np.einsum('ij, ij->', user_factor_train, user_factor_train))\n",
    "    test_rmse = np.sqrt(1/test_size * test_error_squared)\n",
    "    \n",
    "    # losses_latent_test.append(test_loss)\n",
    "    rmse_latent_test.append(test_rmse)\n",
    "        \n",
    "    print(f'train rmse {train_rmse} test rmse {test_rmse}')"
   ]
  },
  {
   "cell_type": "code",
   "execution_count": 84,
   "metadata": {},
   "outputs": [
    {
     "data": {
      "image/png": "[encoded data removed]",
      "text/plain": [
       "<Figure size 640x480 with 1 Axes>"
      ]
     },
     "metadata": {},
     "output_type": "display_data"
    }
   ],
   "source": [
    "plt.plot(rmse_latent_train, label = 'train rmse')\n",
    "plt.plot(rmse_latent_test, label = 'test rmse')\n",
    "plt.xlabel('Iterations')\n",
    "plt.ylabel('RMSE')\n",
    "plt.legend()\n",
    "plt.savefig(\"GenFeats RMSEK10.pdf\", format=\"pdf\", bbox_inches=\"tight\")\n",
    "plt.show()"
   ]
  },
  {
   "cell_type": "markdown",
   "metadata": {},
   "source": [
    "**Creating a dummy User and making Predictions**"
   ]
  },
  {
   "cell_type": "code",
   "execution_count": 22,
   "metadata": {},
   "outputs": [],
   "source": [
    "def new_user(movie_list, epochs):\n",
    "    \n",
    "    K = 10\n",
    "    new_user_factor_train = np.zeros(K)\n",
    "    lam = 5\n",
    "    gamm = 0.1\n",
    "    tau = 1\n",
    "    \n",
    "    for _ in range(epochs):\n",
    "        bias = 0\n",
    "        item_counter = 0\n",
    "        for (n, r) in movie_list:\n",
    "            bias += lam * (r - new_user_factor_train.T.dot(item_factor_train[n]) - item_biases_train[n])\n",
    "            item_counter += 1\n",
    "        bias = bias / (lam * item_counter + gamm)\n",
    "        new_user_biases_train = bias\n",
    "    \n",
    "        #updating user factor\n",
    "        user_factorm_train = 0\n",
    "        user_factormm_train = 0\n",
    "        for (n,r) in movie_list:\n",
    "            user_factorm_train +=  item_factor_train[n]*item_factor_train[n].reshape(-1,1)\n",
    "            user_factormm_train +=  item_factor_train[n] * (r - new_user_biases_train - item_biases_train[n])\n",
    "        new_user_factor_train = np.linalg.solve(lam * user_factorm_train + tau * np.identity(K), lam * user_factormm_train)\n",
    "        # print(new_user_factor_train, new_user_biases_train)\n",
    "\n",
    "    return new_user_factor_train"
   ]
  },
  {
   "cell_type": "code",
   "execution_count": null,
   "metadata": {},
   "outputs": [],
   "source": []
  },
  {
   "cell_type": "code",
   "execution_count": 18,
   "metadata": {},
   "outputs": [],
   "source": [
    "ids_movies = moviesdf['movieId']\n",
    "movie_indexes = []\n",
    "movie_titles = []\n",
    "\n",
    "#movie_indexes and movie_titles lists\n",
    "for movie_id in ids_movies:\n",
    "    try:\n",
    "        index = movie_to_idx[movie_id]\n",
    "        movie_indexes.append(index)\n",
    "        movie_titles.append(moviesdf[moviesdf['movieId'] == movie_id]['title'].values[0])\n",
    "    except KeyError:\n",
    "        continue"
   ]
  },
  {
   "cell_type": "code",
   "execution_count": 19,
   "metadata": {},
   "outputs": [],
   "source": [
    "index_to_title = dict(zip(movie_indexes, movie_titles))"
   ]
  },
  {
   "cell_type": "code",
   "execution_count": null,
   "metadata": {},
   "outputs": [],
   "source": []
  },
  {
   "cell_type": "code",
   "execution_count": 101,
   "metadata": {},
   "outputs": [],
   "source": [
    "def get_prediction(movie_list, epochs, item_vector, item_bias, index_to_title, movie_data):\n",
    "    # Calculate movie scores\n",
    "    new_user_factor = new_user(movie_list, epochs)\n",
    "    movie_score = np.einsum('i, ji -> j', new_user_factor, item_vector) + 0.5 * item_bias\n",
    "    \n",
    "    # Get movie indices sorted by score\n",
    "    movie_indices = np.argsort(movie_score)[::-1]\n",
    "\n",
    "    movie_indices = [index for index in movie_indices if len(movie_data[index]) >= 200]\n",
    "    \n",
    "    # Get recommended movies with titles\n",
    "    recommendations = [(index, index_to_title[index]) for index in movie_indices[:20]]\n",
    "    \n",
    "    return recommendations"
   ]
  },
  {
   "cell_type": "code",
   "execution_count": 102,
   "metadata": {},
   "outputs": [
    {
     "data": {
      "text/plain": [
       "[(7028, 'Lord of the Rings: The Return of the King, The (2003)'),\n",
       " (4887, 'Lord of the Rings: The Fellowship of the Ring, The (2001)'),\n",
       " (5840, 'Lord of the Rings: The Two Towers, The (2002)'),\n",
       " (20531, 'Hobbit: The Desolation of Smaug, The (2013)'),\n",
       " (18913, 'Hobbit: An Unexpected Journey, The (2012)'),\n",
       " (9950, 'Star Wars: Episode III - Revenge of the Sith (2005)'),\n",
       " (23320, 'The Hobbit: The Battle of the Five Armies (2014)'),\n",
       " (5270, 'Star Wars: Episode II - Attack of the Clones (2002)'),\n",
       " (16696, 'Harry Potter and the Deathly Hallows: Part 2 (2011)'),\n",
       " (24535, 'Star Wars: Episode VII - The Force Awakens (2015)'),\n",
       " (13507, 'Harry Potter and the Half-Blood Prince (2009)'),\n",
       " (15522, 'Harry Potter and the Deathly Hallows: Part 1 (2010)'),\n",
       " (257, 'Star Wars: Episode IV - A New Hope (1977)'),\n",
       " (1166, 'Star Wars: Episode V - The Empire Strikes Back (1980)'),\n",
       " (11697, 'Harry Potter and the Order of the Phoenix (2007)'),\n",
       " (10406, 'Harry Potter and the Goblet of Fire (2005)'),\n",
       " (1179, 'Star Wars: Episode VI - Return of the Jedi (1983)'),\n",
       " (7742, 'Harry Potter and the Prisoner of Azkaban (2004)'),\n",
       " (2537, 'Star Wars: Episode I - The Phantom Menace (1999)'),\n",
       " (46936, 'Star Wars: The Last Jedi (2017)')]"
      ]
     },
     "execution_count": 102,
     "metadata": {},
     "output_type": "execute_result"
    }
   ],
   "source": [
    "get_prediction([(7028, 5)], epochs=500, item_vector=item_factor_train, item_bias=item_biases_train,\n",
    "              index_to_title = index_to_title, movie_data = all_movie_data)"
   ]
  },
  {
   "cell_type": "markdown",
   "metadata": {},
   "source": [
    "**Polarizing Movies**"
   ]
  },
  {
   "cell_type": "code",
   "execution_count": 104,
   "metadata": {},
   "outputs": [],
   "source": [
    "item_factor_lengths = np.linalg.norm(item_factor_train, axis=1)"
   ]
  },
  {
   "cell_type": "code",
   "execution_count": 106,
   "metadata": {},
   "outputs": [],
   "source": [
    "sorted_indices_by_length = np.argsort(item_factor_lengths)[::-1]\n",
    "\n",
    "sorted_indices_by_length = [index for index in sorted_indices_by_length if len(all_movie_data[index]) >= 100]"
   ]
  },
  {
   "cell_type": "code",
   "execution_count": 107,
   "metadata": {},
   "outputs": [],
   "source": [
    "top_polarizing_indices = sorted_indices_by_length[:10]\n",
    "top_polarizing = [(index, index_to_title[index]) for index in top_polarizing_indices]"
   ]
  },
  {
   "cell_type": "code",
   "execution_count": 108,
   "metadata": {},
   "outputs": [
    {
     "data": {
      "text/plain": [
       "[(14382, 'Room, The (2003)'),\n",
       " (16939, 'Birdemic: Shock and Terror (2010)'),\n",
       " (17344, 'Twilight Saga: Breaking Dawn - Part 1, The (2011)'),\n",
       " (18787, 'Twilight Saga: Breaking Dawn - Part 2, The (2012)'),\n",
       " (8617, 'Manos: The Hands of Fate (1966)'),\n",
       " (14856, 'Twilight Saga: Eclipse, The (2010)'),\n",
       " (13985, 'Twilight Saga: New Moon, The (2009)'),\n",
       " (12821, 'Twilight (2008)'),\n",
       " (228, 'Dumb & Dumber (Dumb and Dumber) (1994)'),\n",
       " (11108, 'Jackass Number Two (2006)'),\n",
       " (13922, 'Saw VI (2009)'),\n",
       " (17589, 'Human Centipede II (Full Sequence), The (2011)'),\n",
       " (11903, 'Saw IV (2007)'),\n",
       " (11171, 'Saw III (2006)'),\n",
       " (13496, 'Brüno (Bruno) (2009)'),\n",
       " (15450, 'Saw VII 3D - The Final Chapter (2010)'),\n",
       " (12784, 'Saw V (2008)'),\n",
       " (2271, 'Glen or Glenda (1953)'),\n",
       " (19196, 'Movie 43 (2013)'),\n",
       " (4151, 'Freddy Got Fingered (2001)')]"
      ]
     },
     "execution_count": 108,
     "metadata": {},
     "output_type": "execute_result"
    }
   ],
   "source": [
    "top_polarizing"
   ]
  },
  {
   "cell_type": "code",
   "execution_count": 109,
   "metadata": {},
   "outputs": [],
   "source": [
    "least_polarizing_indices = sorted_indices_by_length[-10:]\n",
    "least_polarizing = [(index, index_to_title[index]) for index in least_polarizing_indices]"
   ]
  },
  {
   "cell_type": "code",
   "execution_count": 110,
   "metadata": {},
   "outputs": [
    {
     "data": {
      "text/plain": [
       "[(9348, 'Man Who Copied, The (Homem Que Copiava, O) (2003)'),\n",
       " (7180, 'Black Widow (1987)'),\n",
       " (9552, \"Rory O'Shea Was Here (Inside I'm Dancing) (2004)\"),\n",
       " (5189, \"Cat's Meow, The (2002)\"),\n",
       " (20313, 'Inequality for All (2013)'),\n",
       " (6516, 'Wait Until Dark (1967)'),\n",
       " (349, 'Cobb (1994)'),\n",
       " (5211, 'Nine Queens (Nueve reinas) (2000)'),\n",
       " (12369, 'Bigger, Stronger, Faster* (2008)'),\n",
       " (4949, 'Dragon: The Bruce Lee Story (1993)'),\n",
       " (5288, \"Let's Make Love (1960)\"),\n",
       " (3916, 'Gift, The (2000)'),\n",
       " (46934, 'Roman J. Israel, Esq. (2017)'),\n",
       " (26041, 'The Stanford Prison Experiment (2015)'),\n",
       " (10590, \"World's Fastest Indian, The (2005)\"),\n",
       " (18285, \"Angels' Share, The (2012)\"),\n",
       " (6865, 'The Great Train Robbery (1978)'),\n",
       " (11058, 'Hollywoodland (2006)'),\n",
       " (6770, 'Italian Job, The (1969)'),\n",
       " (4875, 'Clockwise (1986)')]"
      ]
     },
     "execution_count": 110,
     "metadata": {},
     "output_type": "execute_result"
    }
   ],
   "source": [
    "least_polarizing"
   ]
  },
  {
   "cell_type": "code",
   "execution_count": 122,
   "metadata": {},
   "outputs": [
    {
     "data": {
      "image/png": "[encoded data removed]",
      "text/plain": [
       "<Figure size 800x800 with 1 Axes>"
      ]
     },
     "metadata": {},
     "output_type": "display_data"
    }
   ],
   "source": [
    "angles = np.linspace(0, 2 * np.pi, len(top_polarizing), endpoint=False)\n",
    "\n",
    "plt.figure(figsize=(8, 8))  # Reduced plot size\n",
    "origin_x = np.zeros(len(top_polarizing))\n",
    "origin_y = np.zeros(len(top_polarizing))\n",
    "\n",
    "for i, (index, title) in enumerate(top_polarizing):\n",
    "    length = item_factor_lengths[index]\n",
    "    angle = angles[i]\n",
    "    dx = length * np.cos(angle)\n",
    "    dy = length * np.sin(angle)\n",
    "    plt.quiver(0, 0, dx, dy, angles='xy', scale_units='xy', scale=1, color='blue')\n",
    "    plt.text(dx, dy, title, fontsize=8, verticalalignment='bottom', horizontalalignment='left')\n",
    "\n",
    "plt.xlim(-max(item_factor_lengths[top_polarizing_indices]) - 2, max(item_factor_lengths[top_polarizing_indices]) + 2)\n",
    "plt.ylim(-max(item_factor_lengths[top_polarizing_indices]) - 2, max(item_factor_lengths[top_polarizing_indices]) + 2)\n",
    "plt.xlabel('Dimension 1')\n",
    "plt.ylabel('Dimension 2')\n",
    "plt.grid(True)\n",
    "plt.savefig('Polarizing.pdf', format=\"pdf\", bbox_inches=\"tight\")\n",
    "plt.show()"
   ]
  },
  {
   "cell_type": "code",
   "execution_count": null,
   "metadata": {},
   "outputs": [],
   "source": []
  }
 ],
 "metadata": {
  "colab": {
   "provenance": []
  },
  "kernelspec": {
   "display_name": "pytorch",
   "language": "python",
   "name": "pytorch"
  },
  "language_info": {
   "codemirror_mode": {
    "name": "ipython",
    "version": 3
   },
   "file_extension": ".py",
   "mimetype": "text/x-python",
   "name": "python",
   "nbconvert_exporter": "python",
   "pygments_lexer": "ipython3",
   "version": "3.11.2"
  }
 },
 "nbformat": 4,
 "nbformat_minor": 4
}
